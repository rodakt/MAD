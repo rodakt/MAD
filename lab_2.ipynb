{
 "cells": [
  {
   "cell_type": "markdown",
   "metadata": {},
   "source": [
    "# Modele analizy danych\n",
    "\n",
    "### 2024/2025, semestr zimowy\n",
    "Tomasz Rodak\n",
    "\n",
    "---"
   ]
  },
  {
   "cell_type": "markdown",
   "metadata": {},
   "source": [
    "## Importance sampling\n",
    "\n",
    "W poprzednim arkuszu wykorzystaliśmy przekształcenie\n",
    "\n",
    "\\begin{equation*}\n",
    "\\begin{aligned}\n",
    "\\int_\\Omega f(\\mathbf{x}) d\\mathbf{x} &= \\text{Vol}(\\Omega) \\int_\\Omega f(\\mathbf{x}) \\frac{d\\mathbf{x}}{\\text{Vol}(\\Omega)} \\\\\n",
    "&= \\text{Vol}(\\Omega) \\mathbb{E}[f(\\mathbf{x})], \n",
    "\\end{aligned}\n",
    "\\end{equation*} \n",
    "\n",
    "aby wykazać że\n",
    "\n",
    "\\begin{equation*}\n",
    "\\frac{1}{N} \\sum_{i=1}^N f(\\mathbf{x}_i) \\xrightarrow{} \\mathbb{E}[f(\\mathbf{x})],\\quad N\\to\\infty,\n",
    "\\end{equation*}\n",
    "\n",
    "i w konsekwencji, że\n",
    "\n",
    "\\begin{equation*}\n",
    "\\frac{\\text{Vol}(\\Omega)}{N} \\sum_{i=1}^N f(\\mathbf{x}_i) \\xrightarrow{} \\int_\\Omega f(\\mathbf{x}) d\\mathbf{x},\\quad N\\to\\infty.\n",
    "\\end{equation*}\n",
    "\n",
    "Punkty $\\mathbf{x}_i$ w powyższym wzorze są próbkowane z rozkładu jednostajnego na $\\Omega$ i względem tego rozkładu jest liczona wartość oczekiwana.\n",
    "\n",
    "Podane wyżej rozumowanie można uogólnić na szerszą rodzinę rozkładów. \n",
    "\n",
    "Niech $p(\\mathbf{x})$ będzie gęstością rozkładu prawdopodobieństwa na $\\Omega$ (niekoniecznie ograniczonym).\n",
    "Wówczas próbkując punkty $\\mathbf{x}_i$ z rozkładu $p(\\mathbf{x})$ w myśl prawa wielkich liczb otrzymujemy:\n",
    "\n",
    "\\begin{equation*}\n",
    "\\frac{1}{N} \\sum_{i=1}^N f(\\mathbf{x}_i) \\xrightarrow{} \\mathbb{E}_p[f(\\mathbf{x})]=\\int_\\Omega f(\\mathbf{x}) p(\\mathbf{x}) d\\mathbf{x},\\quad N\\to\\infty,\n",
    "\\end{equation*}\n",
    "\n",
    "o ile tylko wartość oczekiwana istnieje. W powyższym wzorze pisząc $\\mathbb{E}_p$ zaznaczamy, że wartość oczekiwana jest liczona względem rozkładu $p(\\mathbf{x})$. \n",
    "\n",
    "Załóżmy, że chcemy obliczyć całkę $\\int_\\Omega f(\\mathbf{x}) d\\mathbf{x}$, nie możemy jednak tego zrobić analitycznie ze względu na złożoność funkcji $f(\\mathbf{x})$. Jeśli $p(\\mathbf{x})$ jest rozkładem na $\\Omega$, takim że $p(\\mathbf{x}) > 0$ w każdym punkcie $\\mathbf{x} \\in \\Omega$, to:\n",
    "\n",
    "\\begin{equation*}\n",
    "\\begin{aligned}\n",
    "\\int_\\Omega f(\\mathbf{x}) d\\mathbf{x} &= \\int_\\Omega f(\\mathbf{x}) p(\\mathbf{x}) \\frac{dx}{p(\\mathbf{x})} \\\\\n",
    "&= \\mathbb{E}_p\\left[\\frac{f(\\mathbf{x})}{p(\\mathbf{x})}\\right]\n",
    "\\end{aligned}\n",
    "\\end{equation*}\n",
    "\n",
    "Zatem\n",
    "\n",
    "\\begin{equation*}\n",
    "\\frac{1}{N} \\sum_{i=1}^N \\frac{f(\\mathbf{x}_i)}{p(\\mathbf{x}_i)} \\xrightarrow{} \\int_\\Omega f(\\mathbf{x}) d\\mathbf{x},\\quad N\\to\\infty,\n",
    "\\end{equation*}\n",
    "\n",
    "o ile tylko całka $\\int_\\Omega f(\\mathbf{x}) d\\mathbf{x}$ istnieje.\n",
    "\n",
    "Wzór ten jest podstawą metody *importance sampling*. Wynika z niego, że całkę $\\int_\\Omega f(\\mathbf{x}) d\\mathbf{x}$ można obliczyć, próbkując punkty $\\mathbf{x}_i$ z rozkładu $p(\\mathbf{x})$ i odpowiednio ważąc wartości funkcji $f(\\mathbf{x})$. Wybór odpowiedniego rozkładu $p(\\mathbf{x})$ ma duże znaczenie dla efektywności obliczeń."
   ]
  },
  {
   "cell_type": "markdown",
   "metadata": {},
   "source": [
    "### Zadanie 2.1\n",
    "\n",
    "Wiadomo, że\n",
    "\n",
    "\\begin{equation*}\n",
    "\\int_{-\\infty}^\\infty e^{-x^2} dx = \\sqrt{\\pi}.\n",
    "\\end{equation*}\n",
    "\n",
    "Zaimplementuj metodę importance sampling do obliczenia tej całki. Wybierz rozkład $p(x)$, z którego będziesz próbkować punkty $x_i$. Przetestuj różne rozkłady i porównaj ich skuteczność obliczając wartość całki oraz błąd względny dla ustalonej liczby próbek."
   ]
  },
  {
   "cell_type": "code",
   "execution_count": null,
   "metadata": {},
   "outputs": [],
   "source": []
  },
  {
   "cell_type": "code",
   "execution_count": null,
   "metadata": {},
   "outputs": [],
   "source": []
  },
  {
   "cell_type": "markdown",
   "metadata": {},
   "source": [
    "### Zadanie 2.2\n",
    "\n",
    "Niech $X$ będzie zmienną losową o standardowym rozkładzie normalnym, tzn. $X \\sim \\mathcal{N}(0, 1)$. Oblicz $P(X > 2)$ korzystając z metody importance sampling. Porównaj uzyskany wynik z wynikiem uzyskanym przez wykorzystanie funkcji z pakietu `scipy`."
   ]
  },
  {
   "cell_type": "code",
   "execution_count": null,
   "metadata": {},
   "outputs": [],
   "source": []
  },
  {
   "cell_type": "code",
   "execution_count": null,
   "metadata": {},
   "outputs": [],
   "source": []
  }
 ],
 "metadata": {
  "kernelspec": {
   "display_name": "py312",
   "language": "python",
   "name": "python3"
  },
  "language_info": {
   "codemirror_mode": {
    "name": "ipython",
    "version": 3
   },
   "file_extension": ".py",
   "mimetype": "text/x-python",
   "name": "python",
   "nbconvert_exporter": "python",
   "pygments_lexer": "ipython3",
   "version": "3.12.4"
  }
 },
 "nbformat": 4,
 "nbformat_minor": 2
}
