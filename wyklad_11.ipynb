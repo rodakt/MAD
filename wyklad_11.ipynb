{
 "cells": [
  {
   "cell_type": "markdown",
   "metadata": {},
   "source": [
    "<style>\n",
    ".wzor {\n",
    "  /* width: auto; */\n",
    "  /* padding: auto; */\n",
    "  border: 0.5rem solid gray;\n",
    "  /* margin: 0; */\n",
    "  background-color: lightgray;\n",
    "}\n",
    "</style>\n"
   ]
  },
  {
   "cell_type": "markdown",
   "metadata": {},
   "source": [
    "# Modele analizy danych\n",
    "\n",
    "### 2024/2025, semestr zimowy\n",
    "Tomasz Rodak\n",
    "\n",
    "---"
   ]
  },
  {
   "cell_type": "markdown",
   "metadata": {},
   "source": [
    "## Literatura\n",
    "   1. James, G., Witten, D., Hastie, T., Tibshirani, R., & Taylor,\n",
    "      J. (2023). An Introduction to Statistical Learning: With\n",
    "      Applications in Python.\n",
    "      \n",
    "      [ISLP](https://www.statlearning.com/)\n",
    "   \n",
    "   2. Bishop, C. M., & Nasrabadi, N. M. (2006). Pattern recognition and\n",
    "      machine learning (Vol. 4, No. 4, p. 738). New York: springer. \n",
    "   \n",
    "      [PRML](https://www.microsoft.com/en-us/research/people/cmbishop/prml-book/)\n",
    "   \n",
    "   3. Kroese, D. P., Botev, Z., Taimre, T., & Vaisman, R. (2019). Data\n",
    "      science and machine learning: mathematical and statistical\n",
    "      methods. CRC Press.\n",
    "   \n",
    "      [https://people.smp.uq.edu.au/DirkKroese/DSML/](https://people.smp.uq.edu.au/DirkKroese/DSML/)\n",
    "   \n",
    "   4. Hastie, T., Tibshirani, R., Friedman, J. H., & Friedman,\n",
    "      J. H. (2009). The elements of statistical learning: data mining,\n",
    "      inference, and prediction (Vol. 2, pp. 1-758). New York:\n",
    "      springer.\n",
    "   \n",
    "      [https://hastie.su.domains/ElemStatLearn/](https://hastie.su.domains/ElemStatLearn/)\n",
    "   \n",
    "   5. Murphy, K. P. (2022). Probabilistic machine learning: an\n",
    "      introduction. MIT press.\n",
    "   \n",
    "      [https://probml.github.io/pml-book/book1.html](https://probml.github.io/pml-book/book1.html)\n",
    "   \n",
    "   6. Murphy, K. P. (2023). Probabilistic machine learning: Advanced\n",
    "      topics. MIT press.\n",
    "   \n",
    "      [https://probml.github.io/pml-book/book2.html](https://probml.github.io/pml-book/book2.html)\n",
    "   \n",
    "   7. Bishop, C. M., & Bishop, H (2024). Deep learning. Springer.\n",
    "   \n",
    "      [https://www.bishopbook.com/](https://www.bishopbook.com/)\n",
    "   \n",
    "   8. Goodfellow, I., Bengio, Y., & Courville, A. (2016). Deep learning. MIT press.\n",
    "   \n",
    "      [https://www.deeplearningbook.org/](https://www.deeplearningbook.org/)\n",
    "\n",
    "---"
   ]
  },
  {
   "cell_type": "markdown",
   "metadata": {},
   "source": [
    "## Wykład XI\n",
    "\n",
    "ISLP, rozdział 5\n",
    "\n",
    "---"
   ]
  },
  {
   "cell_type": "code",
   "execution_count": 1,
   "metadata": {},
   "outputs": [],
   "source": [
    "import pandas as pd\n",
    "import numpy as np\n",
    "import matplotlib.pyplot as plt\n",
    "import seaborn as sns\n",
    "sns.set()"
   ]
  },
  {
   "cell_type": "code",
   "execution_count": 2,
   "metadata": {},
   "outputs": [],
   "source": [
    "import statsmodels.api as sm\n",
    "from scipy.stats import multivariate_normal"
   ]
  },
  {
   "cell_type": "markdown",
   "metadata": {},
   "source": [
    "## Bootstrap\n",
    "\n",
    "Metoda oceny jakości estymatora.\n",
    "\n",
    "Załóżmy, że dane są zmienne losowe $X$ i $Y$ o nieznanym rozkładzie. Chcemy wyznaczyć wartość parametru $\\alpha$ tak, aby wariancja sumy $\\alpha X + (1-\\alpha) Y$ była minimalna. Zmienne $X$ i $Y$ mogą być np. notowaniami dwóch różnych akcji giełdowych. Wówczas $\\alpha$ wyznacza proporcję akcji w portfelu inwestycyjnym. Wariancja tego portfela, czyli właśnie wariancja sumy $\\alpha X + (1-\\alpha) Y$, jest miarą ryzyka inwestycji. Poszukujemy zatem takiego $\\alpha$, które minimalizuje ryzyko inwestycji.\n",
    "\n",
    "Z matematycznego punktu widzenia, oznacza to minimalizację wyrażenia\n",
    "\n",
    "\\begin{equation*}\n",
    "\\operatorname{Var}(\\alpha X + (1-\\alpha) Y) = \\alpha^2 \\operatorname{Var}(X) + (1-\\alpha)^2 \\operatorname{Var}(Y) + 2 \\alpha (1-\\alpha) \\operatorname{Cov}(X,Y)\n",
    "\\end{equation*}\n",
    "\n",
    "Analizując to wyrażenie jako funkcję zmiennej $\\alpha$ i biorąc pochodną, stwierdzamy że osiągnie ono minimum w punkcie\n",
    "\n",
    "\\begin{equation*}\n",
    "\\alpha = \\frac{\\operatorname{Var}(Y) - \\operatorname{Cov}(X,Y)}{\\operatorname{Var}(X) + \\operatorname{Var}(Y) - 2 \\operatorname{Cov}(X,Y)}\n",
    "\\end{equation*}\n",
    "\n",
    "A zatem optymalna wartość $\\alpha$ wyraża się poprzez wariancje i kowariancję zmiennych $X$ i $Y$ i w praktyce może być wyznaczona po oszacowaniu tych parametrów na podstawie dostępnych danych.\n",
    "\n",
    "Rozważmy konkretny przykład: niech $(X,Y)$ będzie wektorem losowym o rozkładzie normalnym $N(\\mu, \\Sigma)$, gdzie $\\mu = (0,0)$ i \n",
    "\n",
    "\\begin{equation*}\n",
    "\\Sigma = \n",
    "\\begin{bmatrix}\n",
    " 1 & .5 \\\\ .5 & 1.25 \n",
    " \\end{bmatrix}\n",
    "\\end{equation*}\n",
    "\n",
    "Wówczas $\\operatorname{Var}(X) = 1$, $\\operatorname{Var}(Y) = 1.25$, $\\operatorname{Cov}(X,Y) = .5$ i optymalna wartość $\\alpha$ wynosi $0.6$. Generujemy $n=100$ wartości z tego rozkładu i dla uzyskanych danych wyznaczamy wartość \n",
    "\n",
    "\\begin{equation*}\n",
    "\\hat{\\alpha}= \\frac{\\hat\\sigma_Y^2 - \\hat\\sigma_{XY}}{\\hat\\sigma_X^2 + \\hat\\sigma_Y^2 - 2 \\hat\\sigma_{XY}},\n",
    "\\end{equation*}\n",
    "\n",
    "która jest estymatorem $\\alpha$."
   ]
  },
  {
   "cell_type": "code",
   "execution_count": 3,
   "metadata": {},
   "outputs": [
    {
     "data": {
      "image/png": "[encoded data removed]",
      "text/plain": [
       "<Figure size 1000x400 with 1 Axes>"
      ]
     },
     "metadata": {},
     "output_type": "display_data"
    }
   ],
   "source": [
    "fig, ax = plt.subplots(figsize=(10, 4))\n",
    "n = 100\n",
    "mu = np.array([0, 0])\n",
    "sigma = np.array([[1, .5], [.5, 1.25]])\n",
    "data = multivariate_normal(mu, sigma).rvs(size=n)\n",
    "X, Y = data[:, 0], data[:, 1]\n",
    "sns.scatterplot(x=X, y=Y, ax=ax)\n",
    "ax.set(xlabel='X', ylabel='Y');"
   ]
  },
  {
   "cell_type": "code",
   "execution_count": 4,
   "metadata": {},
   "outputs": [
    {
     "data": {
      "text/plain": [
       "0.6003584193806935"
      ]
     },
     "execution_count": 4,
     "metadata": {},
     "output_type": "execute_result"
    }
   ],
   "source": [
    "sigma_hat = np.cov(X, Y)\n",
    "varX_hat, varY_hat, covXY_hat = sigma_hat[0, 0], sigma_hat[1, 1], sigma_hat[0, 1]\n",
    "alpha_hat = (varY_hat - covXY_hat) / (varX_hat + varY_hat - 2 * covXY_hat)\n",
    "alpha_hat"
   ]
  },
  {
   "cell_type": "code",
   "execution_count": 5,
   "metadata": {},
   "outputs": [
    {
     "data": {
      "text/plain": [
       "0.7803521331574546"
      ]
     },
     "execution_count": 5,
     "metadata": {},
     "output_type": "execute_result"
    }
   ],
   "source": [
    "np.var(alpha_hat * X + (1 - alpha_hat) * Y)"
   ]
  },
  {
   "cell_type": "markdown",
   "metadata": {},
   "source": [
    "Przy kolejnych powtórzeniach eksperymentu zmienia się wartość $\\hat{\\alpha}$. Jak bardzo $\\hat{\\alpha}$ może się różnić od prawdziwej wartości $\\alpha$? Inaczej mówiąc, jak bardzo wartość $\\hat{\\alpha}$ jest wrażliwa na zmiany danych? Ponieważ znamy rozkład $(X,Y)$, więc informację tę uzyskamy eksperymentalnie tworząc wiele niezależnych prób z tego rozkładu. Dla każdej próby obliczamy wartość $\\hat{\\alpha}$ i otrzymujemy w ten sposób ciąg $\\hat{\\alpha}_1, \\hat{\\alpha}_2, \\ldots, \\hat{\\alpha}_B$ dający eksperymentalny rozkład $\\hat{\\alpha}$. Dzięki temu możemy oszacować wariancję $\\hat{\\alpha}$ z dowolną dokładnością (zwiekszając liczbę powtórzeń eksperymentu $B$)."
   ]
  },
  {
   "cell_type": "code",
   "execution_count": 6,
   "metadata": {},
   "outputs": [],
   "source": [
    "B = 1000\n",
    "n = 100\n",
    "\n",
    "alpha_hat = np.zeros(B)\n",
    "alpha_hat[:] = np.nan\n",
    "\n",
    "\n",
    "for i in range(B):\n",
    "    data = multivariate_normal(mu, sigma).rvs(size=n)\n",
    "    X, Y = data[:, 0], data[:, 1]\n",
    "    sigma_hat = np.cov(X, Y)\n",
    "    varX_hat, varY_hat, covXY_hat = sigma_hat[0, 0], sigma_hat[1, 1], sigma_hat[0, 1]\n",
    "    alpha_hat[i] = (varY_hat - covXY_hat) / (varX_hat + varY_hat - 2 * covXY_hat)"
   ]
  },
  {
   "cell_type": "code",
   "execution_count": 7,
   "metadata": {},
   "outputs": [
    {
     "data": {
      "image/png": "[encoded data removed]",
      "text/plain": [
       "<Figure size 1000x400 with 1 Axes>"
      ]
     },
     "metadata": {},
     "output_type": "display_data"
    }
   ],
   "source": [
    "fig, ax = plt.subplots(figsize=(10, 4))\n",
    "standard_error = np.sqrt(np.var(alpha_hat))\n",
    "mean_alpha = np.mean(alpha_hat)\n",
    "sns.histplot(x=alpha_hat, ax=ax)\n",
    "ax.vlines(0.6, 0, 100, color='red', label=r'$\\alpha$')\n",
    "ax.set(xlabel=r'$\\hat{\\alpha}$', ylabel='Frequency', \n",
    "       title=r'$\\bar\\alpha = {:.3f}, \\hat\\sigma = {:.3f}$'.format(mean_alpha, standard_error))\n",
    "ax.legend();"
   ]
  },
  {
   "cell_type": "markdown",
   "metadata": {},
   "source": [
    "Do oceny jakości estymatora $\\hat{\\alpha}$ wykorzystaliśmy wiedzę o rozkładzie wektora $(X,Y)$. Wielokrotne powtórzenie eksperymentu pozwala na oszacowanie błędu standardowego, a im więcej powtórzeń, tym oszacowanie jest dokładniejsze. W praktyce rozkład wektora $(X,Y)$ jest nieznany, dostępna jest jedynie próba losowa $(x_1,y_1),\\ldots,(x_n,y_n)$ i na jej podstawie musimy wyznaczyć ocenę niepewności estymatora $\\hat{\\alpha}$. Właśnie do tego celu służy metoda bootstrap.\n",
    "\n",
    "Opis metody bootstrap. Załóżmy, że mamy $n$ obserwacji $(x_1,y_1),\\ldots,(x_n,y_n)$ i chcemy wyznaczyć odchylenie standardowe estymatora $\\hat{\\theta}$ pewnego parametru $\\theta$ o prawdziwej wartości nieznanej. Wartość estymatora $\\hat{\\theta}$ zależy funkcyjnie od próby $(x_1,y_1),\\ldots,(x_n,y_n)$, próba ta jest jednak tylko jedna i nie widać żadnego sposobu na wygenerowanie kolejnych. Zamiast tego, metoda bootstrap generuje nowe próby z obserwacji $(x_1,y_1),\\ldots,(x_n,y_n)$ i traktuje je dalej tak, jak gdyby to były nowe obserwacje. \n",
    "\n",
    "1. Generujemy $B$ prób bootstrapowych $(x_1^{*i},y_1^{*i}),\\ldots,(x_n^{*i},y_n^{*i})$, $i=1,\\ldots,B$. Próba bootstrapowa jest próbą losową złożoną z $n$ obserwacji wylosowanych z próby $(x_1,y_1),\\ldots,(x_n,y_n)$ z powtórzeniami.\n",
    "3. Dla każdej próby bootstrapowej wyznaczamy estymator $\\hat{\\theta}^{*i}$.\n",
    "4. Na podstawie $B$ wartości $\\hat{\\theta}^{*i}$ wyznaczamy estymator wariancji $\\hat{\\theta}$:\n",
    "\n",
    "\\begin{equation*}\n",
    "\\widehat{\\operatorname{Var}}(\\hat{\\theta}) = \\frac{1}{B-1} \\sum_{i=1}^B (\\hat{\\theta}^{*i} - \\bar{\\theta}^{*})^2,\n",
    "\\end{equation*}\n",
    "\n",
    "gdzie $\\bar{\\theta}^{*} = \\frac{1}{B} \\sum_{i=1}^B \\hat{\\theta}^{*i}$.\n",
    "\n",
    "Zastosujemy metodę bootstrap do wyznaczenia błędu standardowego estymatora $\\hat{\\theta}$."
   ]
  },
  {
   "cell_type": "code",
   "execution_count": 8,
   "metadata": {},
   "outputs": [
    {
     "data": {
      "image/png": "[encoded data removed]",
      "text/plain": [
       "<Figure size 1000x400 with 1 Axes>"
      ]
     },
     "metadata": {},
     "output_type": "display_data"
    }
   ],
   "source": [
    "fig, ax = plt.subplots(figsize=(10, 4))\n",
    "n = 100\n",
    "mu = np.array([0, 0])\n",
    "sigma = np.array([[1, 0.5], [0.5, 1.25]])\n",
    "data = multivariate_normal(mu, sigma).rvs(size=n, random_state=42) # ustawienie ziarna\n",
    "X, Y = data[:, 0], data[:, 1]\n",
    "sns.scatterplot(x=X, y=Y, ax=ax)\n",
    "ax.set(xlabel=\"X\", ylabel=\"Y\");"
   ]
  },
  {
   "cell_type": "code",
   "execution_count": 9,
   "metadata": {},
   "outputs": [],
   "source": [
    "B = 1000\n",
    "n = X.size\n",
    "assert X.size == Y.size\n",
    "rng = np.random.default_rng(42)\n",
    "alpha_hatb = np.zeros(B)\n",
    "\n",
    "for i in range(B):\n",
    "    idx = rng.choice(n, size=n, replace=True) # losowanie indeksów z powtórzeniami\n",
    "    Xb, Yb = X[idx], Y[idx]\n",
    "    sigma_hat = np.cov(Xb, Yb)\n",
    "    varX_hat, varY_hat, covXY_hat = sigma_hat[0, 0], sigma_hat[1, 1], sigma_hat[0, 1]\n",
    "    alpha_hatb[i] = (varY_hat - covXY_hat) / (varX_hat + varY_hat - 2 * covXY_hat)"
   ]
  },
  {
   "cell_type": "code",
   "execution_count": 10,
   "metadata": {},
   "outputs": [
    {
     "data": {
      "image/png": "[encoded data removed]",
      "text/plain": [
       "<Figure size 1200x400 with 3 Axes>"
      ]
     },
     "metadata": {},
     "output_type": "display_data"
    }
   ],
   "source": [
    "fig, (ax1, ax2, ax3) = plt.subplots(ncols=3, figsize=(12, 4))\n",
    "sns.histplot(x=alpha_hat, ax=ax1, color=\"blue\")\n",
    "ax1.vlines(0.6, 0, 100, color=\"red\", label=r\"$\\alpha$\")\n",
    "ax1.set(\n",
    "    xlabel=r\"$\\hat{\\alpha}$\",\n",
    "    ylabel=\"Frequency\",\n",
    "    title=r\"$\\bar\\alpha = {:.3f}, \\hat\\sigma = {:.3f}$\".format(\n",
    "        mean_alpha, standard_error\n",
    "    ),\n",
    ")\n",
    "mean_alphab = np.mean(alpha_hatb)\n",
    "standard_errorb = np.sqrt(np.var(alpha_hatb))\n",
    "sns.histplot(x=alpha_hatb, ax=ax2, color=\"orange\")\n",
    "ax2.vlines(0.6, 0, 100, color=\"red\", label=r\"$\\alpha$\")\n",
    "ax2.set(\n",
    "    xlabel=r\"$\\hat{\\alpha}$\",\n",
    "    ylabel=\"Frequency\",\n",
    "    title=r\"$\\bar\\alpha = {:.3f}, \\hat\\sigma = {:.3f}$\".format(\n",
    "        mean_alphab, standard_errorb\n",
    "    ),\n",
    ")\n",
    "df = pd.DataFrame({\"true\": alpha_hat, \"bootstrap\": alpha_hatb})\n",
    "sns.boxplot(data=df, ax=ax3, palette=[\"blue\", \"orange\"]);"
   ]
  },
  {
   "cell_type": "markdown",
   "metadata": {},
   "source": [
    "### Przykład: szacowanie błędu standardowego w modelu regresji `mpg` względem `horsepower` metodą bootstrap\n",
    "\n",
    "\n"
   ]
  },
  {
   "cell_type": "code",
   "execution_count": 11,
   "metadata": {},
   "outputs": [],
   "source": [
    "auto = pd.read_csv(\"data/Auto.csv\", na_values=\"?\")\n",
    "auto.dropna(inplace=True)\n",
    "X, y = auto[\"horsepower\"].values, auto[\"mpg\"].values"
   ]
  },
  {
   "cell_type": "markdown",
   "metadata": {},
   "source": [
    "W modelu regresji błąd standardowy współczynnika $\\beta_1$ wyznaczamy na podstawie wzoru\n",
    "\n",
    "\\begin{equation*}\n",
    "\\operatorname{SE}(\\hat{\\beta}_1) = \\sqrt{\\frac{\\hat{\\sigma}^2}{\\sum_{i=1}^n (x_i - \\bar{x})^2}},\n",
    "\\end{equation*}\n",
    "\n",
    "gdzie $\\hat{\\sigma}^2$ jest estymatorem wariancji reszt modelu regresji. Wartość $\\hat{\\sigma}^2$ jest równa\n",
    "\n",
    "\\begin{equation*}\n",
    "\\hat{\\sigma}^2 = \\frac{1}{n-2} \\sum_{i=1}^n (y_i - \\hat{y}_i)^2,\n",
    "\\end{equation*}\n",
    "\n",
    "gdzie $\\hat{y}_i = \\hat{\\beta}_0 + \\hat{\\beta}_1 x_i$. Jak wypadnie porównanie błędu standardowego $\\hat{\\beta}_1$ wyznaczonego na podstawie wzoru z błędem standardowym wyznaczonym metodą bootstrap?\n",
    "\n",
    "Oszacowanie zgodnie ze wzorem z modelu regresji:"
   ]
  },
  {
   "cell_type": "code",
   "execution_count": 12,
   "metadata": {},
   "outputs": [
    {
     "data": {
      "text/html": [
       "<table class=\"simpletable\">\n",
       "<tr>\n",
       "    <td></td>       <th>coef</th>     <th>std err</th>      <th>t</th>      <th>P>|t|</th>  <th>[0.025</th>    <th>0.975]</th>  \n",
       "</tr>\n",
       "<tr>\n",
       "  <th>const</th> <td>   39.9359</td> <td>    0.717</td> <td>   55.660</td> <td> 0.000</td> <td>   38.525</td> <td>   41.347</td>\n",
       "</tr>\n",
       "<tr>\n",
       "  <th>x1</th>    <td>   -0.1578</td> <td>    0.006</td> <td>  -24.489</td> <td> 0.000</td> <td>   -0.171</td> <td>   -0.145</td>\n",
       "</tr>\n",
       "</table>"
      ],
      "text/plain": [
       "<class 'statsmodels.iolib.table.SimpleTable'>"
      ]
     },
     "execution_count": 12,
     "metadata": {},
     "output_type": "execute_result"
    }
   ],
   "source": [
    "model = sm.OLS(y, sm.add_constant(X))\n",
    "results = model.fit()\n",
    "results.summary().tables[1]"
   ]
  },
  {
   "cell_type": "markdown",
   "metadata": {},
   "source": [
    "Oszacowanie za pomocą metody bootstrap:"
   ]
  },
  {
   "cell_type": "code",
   "execution_count": 13,
   "metadata": {},
   "outputs": [
    {
     "data": {
      "text/plain": [
       "(0.8511969758708801, 0.007402133740901528)"
      ]
     },
     "execution_count": 13,
     "metadata": {},
     "output_type": "execute_result"
    }
   ],
   "source": [
    "B = 1000\n",
    "n = X.size\n",
    "rng = np.random.default_rng(42)\n",
    "beta0_hatb, beta1_hatb = np.zeros(B), np.zeros(B)\n",
    "\n",
    "for i in range(B):\n",
    "    idx = rng.choice(n, size=n, replace=True)\n",
    "    Xb, yb = X[idx], y[idx]\n",
    "    model = sm.OLS(yb, sm.add_constant(Xb))\n",
    "    results = model.fit()\n",
    "    beta0_hatb[i], beta1_hatb[i] = results.params\n",
    "\n",
    "np.sqrt(np.var(beta0_hatb)), np.sqrt(np.var(beta1_hatb))"
   ]
  },
  {
   "cell_type": "markdown",
   "metadata": {},
   "source": [
    "Wyniki nieco się różnią. W modelu regresji błąd standardowy $\\hat{\\beta}_1$ jest wyznaczany na podstawie założenia o normalności reszt modelu. Metoda bootstrap nie zakłada żadnego rozkładu, a jedynie wykorzystuje dostępne dane. W tym przypadku metoda bootstrap daje większą wartość błędu standardowego, co może być spowodowane tym, że reszty modelu nie są rozłożone normalnie. \n",
    "\n",
    "W rzeczywistości z wcześniejszych zajęć wiemy, że zmienna `mpg` nie jest liniowo zależna od `horsepower`. W takiej sytuacji błąd standardowy wyznaczony metodą bootstrap jest bardziej wiarygodny.\n",
    "\n",
    "Powtórzymy powyższy eksperyment dla modelu regresji `mpg` względem `horsepower` z uwzględnieniem kwadratu `horsepower`. Zaczynamy od wyznaczenia błędów standardowych współczynników $\\beta_0$, $\\beta_1$ i $\\beta_2$ z modelu regresji:"
   ]
  },
  {
   "cell_type": "code",
   "execution_count": 14,
   "metadata": {},
   "outputs": [
    {
     "data": {
      "text/html": [
       "<table class=\"simpletable\">\n",
       "<tr>\n",
       "    <td></td>       <th>coef</th>     <th>std err</th>      <th>t</th>      <th>P>|t|</th>  <th>[0.025</th>    <th>0.975]</th>  \n",
       "</tr>\n",
       "<tr>\n",
       "  <th>const</th> <td>   56.9001</td> <td>    1.800</td> <td>   31.604</td> <td> 0.000</td> <td>   53.360</td> <td>   60.440</td>\n",
       "</tr>\n",
       "<tr>\n",
       "  <th>x1</th>    <td>   -0.4662</td> <td>    0.031</td> <td>  -14.978</td> <td> 0.000</td> <td>   -0.527</td> <td>   -0.405</td>\n",
       "</tr>\n",
       "<tr>\n",
       "  <th>x2</th>    <td>    0.0012</td> <td>    0.000</td> <td>   10.080</td> <td> 0.000</td> <td>    0.001</td> <td>    0.001</td>\n",
       "</tr>\n",
       "</table>"
      ],
      "text/plain": [
       "<class 'statsmodels.iolib.table.SimpleTable'>"
      ]
     },
     "execution_count": 14,
     "metadata": {},
     "output_type": "execute_result"
    }
   ],
   "source": [
    "X = np.hstack((X.reshape(-1, 1), X.reshape(-1, 1) ** 2))\n",
    "model = sm.OLS(y, sm.add_constant(X))\n",
    "results = model.fit()\n",
    "results.summary().tables[1]"
   ]
  },
  {
   "cell_type": "markdown",
   "metadata": {},
   "source": [
    "Teraz metodą bootstrap:"
   ]
  },
  {
   "cell_type": "code",
   "execution_count": 15,
   "metadata": {},
   "outputs": [
    {
     "data": {
      "text/plain": [
       "(2.0377909922590423, 0.03277470715208103, 0.00011916813547164276)"
      ]
     },
     "execution_count": 15,
     "metadata": {},
     "output_type": "execute_result"
    }
   ],
   "source": [
    "B = 1000\n",
    "n = X.shape[0]\n",
    "rng = np.random.default_rng(42)\n",
    "beta0_hatb, beta1_hatb, beta2_hatb = np.zeros(B), np.zeros(B), np.zeros(B)\n",
    "\n",
    "for i in range(B):\n",
    "    idx = rng.choice(n, size=n, replace=True)\n",
    "    Xb, yb = X[idx], y[idx]\n",
    "    model = sm.OLS(yb, sm.add_constant(Xb))\n",
    "    results = model.fit()\n",
    "    beta0_hatb[i], beta1_hatb[i], beta2_hatb[i] = results.params\n",
    "\n",
    "np.sqrt(np.var(beta0_hatb)), np.sqrt(np.var(beta1_hatb)), np.sqrt(np.var(beta2_hatb))"
   ]
  }
 ],
 "metadata": {
  "kernelspec": {
   "display_name": "py312",
   "language": "python",
   "name": "python3"
  },
  "language_info": {
   "codemirror_mode": {
    "name": "ipython",
    "version": 3
   },
   "file_extension": ".py",
   "mimetype": "text/x-python",
   "name": "python",
   "nbconvert_exporter": "python",
   "pygments_lexer": "ipython3",
   "version": "3.12.4"
  }
 },
 "nbformat": 4,
 "nbformat_minor": 2
}
