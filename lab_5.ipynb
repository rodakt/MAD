{
 "cells": [
  {
   "cell_type": "markdown",
   "metadata": {},
   "source": [
    "# Modele analizy danych\n",
    "\n",
    "### 2024/2025, semestr zimowy\n",
    "Tomasz Rodak\n",
    "\n",
    "---"
   ]
  },
  {
   "cell_type": "markdown",
   "metadata": {},
   "source": [
    "### Zadanie 5.1\n",
    "\n",
    "Przeprowadź regresję liniową zmiennej `mpg` względem pozostałych zmiennych w zbiorze danych `Auto.csv`. Chcesz uzyskać wysoki współczynnik determinacji i niski błąd średniokwadratowy ale równocześnie jak najprostszy model o dużym stopniu interpretowalności.\n",
    "\n",
    "Uwzględnij następujące aspekty:\n",
    "\n",
    "1. Selekcja zmiennych.\n",
    "2. Transformacja zmiennych.\n",
    "3. Interakcje zmiennych.\n",
    "4. Modelowanie nieliniowe.\n",
    "\n",
    "Przeprowadź diagnostykę modelu. Uwzględnij w niej:\n",
    "\n",
    "1. Nielinowość w relacji między zmienną celu a predyktorami.\n",
    "2. Korelację między resztami.\n",
    "3. Heteroskedastyczność (niejednorodność wariancji reszt).\n",
    "4. Obserwacje odstające.\n",
    "5. Obserwacje wpływowe.\n",
    "6. Współliniowość zmiennych.\n",
    "\n",
    "(zobacz rozdział 3.3.3 w  [ISLP](https://www.statlearning.com/))\n",
    "\n",
    "\n",
    "---"
   ]
  },
  {
   "cell_type": "code",
   "execution_count": null,
   "metadata": {
    "vscode": {
     "languageId": "plaintext"
    }
   },
   "outputs": [],
   "source": []
  },
  {
   "cell_type": "code",
   "execution_count": null,
   "metadata": {
    "vscode": {
     "languageId": "plaintext"
    }
   },
   "outputs": [],
   "source": []
  },
  {
   "cell_type": "markdown",
   "metadata": {},
   "source": [
    "### Zadanie 5.2\n",
    "\n",
    "Rozwiąż zadania 3.7.3, 3.7.4, 3.7.13, 3.7.14, 3.7.15 z [ISLP](https://www.statlearning.com/).\n",
    "\n",
    "---"
   ]
  },
  {
   "cell_type": "code",
   "execution_count": null,
   "metadata": {
    "vscode": {
     "languageId": "plaintext"
    }
   },
   "outputs": [],
   "source": []
  },
  {
   "cell_type": "code",
   "execution_count": null,
   "metadata": {
    "vscode": {
     "languageId": "plaintext"
    }
   },
   "outputs": [],
   "source": []
  }
 ],
 "metadata": {
  "kernelspec": {
   "display_name": "py312",
   "language": "python",
   "name": "python3"
  },
  "language_info": {
   "codemirror_mode": {
    "name": "ipython",
    "version": 3
   },
   "file_extension": ".py",
   "mimetype": "text/x-python",
   "name": "python",
   "nbconvert_exporter": "python",
   "pygments_lexer": "ipython3",
   "version": "3.12.4"
  }
 },
 "nbformat": 4,
 "nbformat_minor": 2
}
