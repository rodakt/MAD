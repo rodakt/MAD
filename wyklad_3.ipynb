{
 "cells": [
  {
   "cell_type": "markdown",
   "metadata": {},
   "source": [
    "<style>\n",
    ".wzor {\n",
    "  /* width: auto; */\n",
    "  /* padding: auto; */\n",
    "  border: 0.5rem solid gray;\n",
    "  /* margin: 0; */\n",
    "  background-color: lightgray;\n",
    "}\n",
    "</style>\n"
   ]
  },
  {
   "cell_type": "markdown",
   "metadata": {},
   "source": [
    "# Modele analizy danych\n",
    "\n",
    "### 2024/2025, semestr zimowy\n",
    "Tomasz Rodak\n",
    "\n",
    "---"
   ]
  },
  {
   "cell_type": "markdown",
   "metadata": {},
   "source": [
    "## Literatura\n",
    "   1. James, G., Witten, D., Hastie, T., Tibshirani, R., & Taylor,\n",
    "      J. (2023). An Introduction to Statistical Learning: With\n",
    "      Applications in Python.\n",
    "      \n",
    "      [ISLP](https://www.statlearning.com/)\n",
    "   \n",
    "   2. Bishop, C. M., & Nasrabadi, N. M. (2006). Pattern recognition and\n",
    "      machine learning (Vol. 4, No. 4, p. 738). New York: springer. \n",
    "   \n",
    "      [PRML](https://www.microsoft.com/en-us/research/people/cmbishop/prml-book/)\n",
    "   \n",
    "   3. Kroese, D. P., Botev, Z., Taimre, T., & Vaisman, R. (2019). Data\n",
    "      science and machine learning: mathematical and statistical\n",
    "      methods. CRC Press.\n",
    "   \n",
    "      [https://people.smp.uq.edu.au/DirkKroese/DSML/](https://people.smp.uq.edu.au/DirkKroese/DSML/)\n",
    "   \n",
    "   4. Hastie, T., Tibshirani, R., Friedman, J. H., & Friedman,\n",
    "      J. H. (2009). The elements of statistical learning: data mining,\n",
    "      inference, and prediction (Vol. 2, pp. 1-758). New York:\n",
    "      springer.\n",
    "   \n",
    "      [https://hastie.su.domains/ElemStatLearn/](https://hastie.su.domains/ElemStatLearn/)\n",
    "   \n",
    "   5. Murphy, K. P. (2022). Probabilistic machine learning: an\n",
    "      introduction. MIT press.\n",
    "   \n",
    "      [https://probml.github.io/pml-book/book1.html](https://probml.github.io/pml-book/book1.html)\n",
    "   \n",
    "   6. Murphy, K. P. (2023). Probabilistic machine learning: Advanced\n",
    "      topics. MIT press.\n",
    "   \n",
    "      [https://probml.github.io/pml-book/book2.html](https://probml.github.io/pml-book/book2.html)\n",
    "   \n",
    "   7. Bishop, C. M., & Bishop, H (2024). Deep learning. Springer.\n",
    "   \n",
    "      [https://www.bishopbook.com/](https://www.bishopbook.com/)\n",
    "   \n",
    "   8. Goodfellow, I., Bengio, Y., & Courville, A. (2016). Deep learning. MIT press.\n",
    "   \n",
    "      [https://www.deeplearningbook.org/](https://www.deeplearningbook.org/)\n",
    "\n",
    "---"
   ]
  },
  {
   "cell_type": "markdown",
   "metadata": {},
   "source": [
    "## Wykład III\n",
    "\n",
    "ISLP, rozdz. 3.2\n",
    "\n",
    "---"
   ]
  },
  {
   "cell_type": "markdown",
   "metadata": {},
   "source": [
    "## Regresja liniowa wielokrotna"
   ]
  },
  {
   "cell_type": "code",
   "execution_count": 1,
   "metadata": {},
   "outputs": [
    {
     "data": {
      "text/html": [
       "<div>\n",
       "<style scoped>\n",
       "    .dataframe tbody tr th:only-of-type {\n",
       "        vertical-align: middle;\n",
       "    }\n",
       "\n",
       "    .dataframe tbody tr th {\n",
       "        vertical-align: top;\n",
       "    }\n",
       "\n",
       "    .dataframe thead th {\n",
       "        text-align: right;\n",
       "    }\n",
       "</style>\n",
       "<table border=\"1\" class=\"dataframe\">\n",
       "  <thead>\n",
       "    <tr style=\"text-align: right;\">\n",
       "      <th></th>\n",
       "      <th>TV</th>\n",
       "      <th>radio</th>\n",
       "      <th>newspaper</th>\n",
       "      <th>sales</th>\n",
       "    </tr>\n",
       "  </thead>\n",
       "  <tbody>\n",
       "    <tr>\n",
       "      <th>0</th>\n",
       "      <td>230.1</td>\n",
       "      <td>37.8</td>\n",
       "      <td>69.2</td>\n",
       "      <td>22.1</td>\n",
       "    </tr>\n",
       "    <tr>\n",
       "      <th>1</th>\n",
       "      <td>44.5</td>\n",
       "      <td>39.3</td>\n",
       "      <td>45.1</td>\n",
       "      <td>10.4</td>\n",
       "    </tr>\n",
       "    <tr>\n",
       "      <th>2</th>\n",
       "      <td>17.2</td>\n",
       "      <td>45.9</td>\n",
       "      <td>69.3</td>\n",
       "      <td>9.3</td>\n",
       "    </tr>\n",
       "    <tr>\n",
       "      <th>3</th>\n",
       "      <td>151.5</td>\n",
       "      <td>41.3</td>\n",
       "      <td>58.5</td>\n",
       "      <td>18.5</td>\n",
       "    </tr>\n",
       "    <tr>\n",
       "      <th>4</th>\n",
       "      <td>180.8</td>\n",
       "      <td>10.8</td>\n",
       "      <td>58.4</td>\n",
       "      <td>12.9</td>\n",
       "    </tr>\n",
       "  </tbody>\n",
       "</table>\n",
       "</div>"
      ],
      "text/plain": [
       "      TV  radio  newspaper  sales\n",
       "0  230.1   37.8       69.2   22.1\n",
       "1   44.5   39.3       45.1   10.4\n",
       "2   17.2   45.9       69.3    9.3\n",
       "3  151.5   41.3       58.5   18.5\n",
       "4  180.8   10.8       58.4   12.9"
      ]
     },
     "execution_count": 1,
     "metadata": {},
     "output_type": "execute_result"
    }
   ],
   "source": [
    "import numpy as np\n",
    "import pandas as pd\n",
    "import matplotlib.pyplot as plt\n",
    "import seaborn as sns\n",
    "sns.set()\n",
    "\n",
    "import statsmodels.api as sm\n",
    "from scipy import stats\n",
    "\n",
    "advertising = pd.read_csv('datasets/Advertising.csv', usecols=[1, 2, 3, 4])\n",
    "advertising.head()"
   ]
  },
  {
   "cell_type": "code",
   "execution_count": 2,
   "metadata": {},
   "outputs": [
    {
     "name": "stdout",
     "output_type": "stream",
     "text": [
      "==============================================================================\n",
      "                 coef    std err          t      P>|t|      [0.025      0.975]\n",
      "------------------------------------------------------------------------------\n",
      "const          7.0326      0.458     15.360      0.000       6.130       7.935\n",
      "TV             0.0475      0.003     17.668      0.000       0.042       0.053\n",
      "==============================================================================\n",
      "==============================================================================\n",
      "                 coef    std err          t      P>|t|      [0.025      0.975]\n",
      "------------------------------------------------------------------------------\n",
      "const          9.3116      0.563     16.542      0.000       8.202      10.422\n",
      "radio          0.2025      0.020      9.921      0.000       0.162       0.243\n",
      "==============================================================================\n",
      "==============================================================================\n",
      "                 coef    std err          t      P>|t|      [0.025      0.975]\n",
      "------------------------------------------------------------------------------\n",
      "const         12.3514      0.621     19.876      0.000      11.126      13.577\n",
      "newspaper      0.0547      0.017      3.300      0.001       0.022       0.087\n",
      "==============================================================================\n"
     ]
    }
   ],
   "source": [
    "for predictor in advertising.columns[:-1]:\n",
    "    x = advertising.loc[:, predictor]\n",
    "    y = advertising.loc[:, 'sales']\n",
    "    result = sm.OLS(y, sm.add_constant(x)).fit()\n",
    "    print(result.summary().tables[1])"
   ]
  },
  {
   "cell_type": "markdown",
   "metadata": {},
   "source": [
    "Nakłady na reklamę w każdym z mediów `TV`, `radio` i `newspaper` prowadzą do wzrostu sprzedaży `sales`. \n",
    "\n",
    "* Jak jednak sporządzić budżet reklamowy, gdy mamy trzy różne modele regresji?\n",
    "* Reklama w każdym z mediów `TV`, `radio` i `newspaper` jest prowadzona równolegle. Jak zatem stwierdzić, które z nich przyczynia się do wzrostu sprzedaży?\n",
    "\n",
    "Rozszerzenie modelu regresji liniowej z jedną zmienną objaśniającą na model liniowy z wieloma zmiennymi objaśniającymi nazywamy **regresją liniową wielokrotną** (*multiple linear regression*). Dla danych `advertising` model ten można zapisać jako\n",
    "\n",
    "\\begin{equation*}\n",
    "\\text{sales} = \\beta_0 + \\beta_1 \\cdot \\text{TV} + \\beta_2 \\cdot \\text{radio} + \\beta_3 \\cdot \\text{newspaper} + \\epsilon.\n",
    "\\end{equation*}\n",
    "\n",
    "Ogólnie, model regresji liniowej wielokrotnej z $p$ zmiennymi objaśniającymi zapisujemy jako"
   ]
  },
  {
   "cell_type": "markdown",
   "metadata": {},
   "source": [
    "<div class=\"wzor\">\n",
    "\n",
    "\\begin{equation*}\n",
    "Y = \\beta_0 + \\beta_1 X_1 + \\beta_2 X_2 + \\ldots + \\beta_p X_p + \\epsilon.\n",
    "\\end{equation*}\n",
    "</div>"
   ]
  },
  {
   "cell_type": "markdown",
   "metadata": {},
   "source": [
    "Zmienna $X_j$ jest $j$-tym predyktorem, $\\beta_j$ jest współczynnikiem regresji dla $j$-tego predyktora. Współczynniki $\\beta_j$ określają, jak bardzo zmienna $Y$ zmienia się wraz ze zmianą $j$-tego predyktora $X_j$, przy założeniu, że **wszystkie inne predyktory są stałe**."
   ]
  },
  {
   "cell_type": "markdown",
   "metadata": {},
   "source": [
    "### Szacowanie parametrów modelu metodą najmniejszych kwadratów"
   ]
  },
  {
   "cell_type": "markdown",
   "metadata": {},
   "source": [
    "Parametry $\\beta_0, \\beta_1, \\ldots, \\beta_p$ są nieznane. Ich estymatory oznaczamy jak zwykle stosując notację ,,daszek\": $\\hat{\\beta}_0, \\hat{\\beta}_1, \\ldots, \\hat{\\beta}_p$. Dla danych $\\hat{\\beta}_0, \\hat{\\beta}_1, \\ldots, \\hat{\\beta}_p$ przewidywania modelu uzyskujemy ze wzoru:"
   ]
  },
  {
   "cell_type": "markdown",
   "metadata": {},
   "source": [
    "<div class=\"wzor\">\n",
    "\n",
    "\\begin{equation*}\n",
    "\\hat{y} = \\hat{\\beta}_0 + \\hat{\\beta}_1 x_1 + \\hat{\\beta}_2 x_2 + \\ldots + \\hat{\\beta}_p x_p.\n",
    "\\end{equation*}\n",
    "</div>"
   ]
  },
  {
   "cell_type": "markdown",
   "metadata": {},
   "source": [
    "Wektor $(x_1, x_2, \\ldots, x_p)^T$ jest wektorem predyktorów dla nowej obserwacji $x$. Wartość $\\hat{y}$ jest przewidywaną wartością $Y$ dla tej obserwacji.\n",
    "\n",
    "Dane treningowe $\\{(x_1, y_1), (x_2, y_2), \\ldots, (x_n, y_n)\\}$ mają postać par: \n",
    "* wektor predyktorów $(x_{i1}, x_{i2}, \\ldots, x_{ip})^T$, $i=1,2,\\ldots,n$,\n",
    "* wartość zmiennej objaśnianej $y_i$ dla $i$-tej obserwacji.\n",
    "\n",
    "Wektor $x_i$ jest wektorem predyktorów dla $i$-tej obserwacji. Wartość $y_i$ jest wartością zmiennej objaśnianej dla $i$-tej obserwacji."
   ]
  },
  {
   "cell_type": "markdown",
   "metadata": {},
   "source": [
    "<style>\n",
    ".uwaga {\n",
    "  /* width: auto; */\n",
    "  /* padding: auto; */\n",
    "  border: 0.5rem solid red;\n",
    "  /* margin: 0; */\n",
    "  background-color: lightcoral;\n",
    "}\n",
    "</style>\n",
    "\n",
    "<div class=\"uwaga\">\n",
    "<b>Uwaga:</b> Autorzy ISLP używają tego samego oznaczenia $x_i$ dla $i$-tego wektora predyktorów w zestawie treningowym i dla $i$-tej współrzędnej nowej obserwacji $x$. Z kontekstu należy wnioskować, o którą sytuację chodzi.\n",
    "</div>\n",
    "\n"
   ]
  },
  {
   "cell_type": "markdown",
   "metadata": {},
   "source": [
    "Podobnie jak dla regresji jednokrotnej definiujemy *reszty* (*residuals*) $e_i=y_i-\\hat{y}_i$, $i=1,2,\\ldots,n$ oraz sumę kwadratów reszt (*residual sum of squares*) "
   ]
  },
  {
   "cell_type": "markdown",
   "metadata": {},
   "source": [
    "<div class=\"wzor\">\n",
    "\n",
    "\\begin{equation*}\n",
    "\\text{RSS} = e_1^2 + e_2^2 + \\ldots + e_n^2 = \\sum_{i=1}^n e_i^2 = \\sum_{i=1}^n (y_i - \\hat{y}_i)^2.\n",
    "\\end{equation*}\n",
    "\n",
    "</div>"
   ]
  },
  {
   "cell_type": "markdown",
   "metadata": {},
   "source": [
    "Tak samo jak w przypadku jednokrotnym współczynniki $\\hat{\\beta}_0, \\hat{\\beta}_1, \\ldots, \\hat{\\beta}_p$ znajdujemy poprzez minimalizację $\\text{RSS}$: $\\hat{\\beta}_0, \\hat{\\beta}_1, \\ldots, \\hat{\\beta}_p$ to te parametry $\\beta_0, \\beta_1, \\ldots, \\beta_p$, dla których $\\text{RSS}$ jest najmniejsze:\n",
    "\n",
    "<div class=\"wzor\">\n",
    "\n",
    "\\begin{equation*}\n",
    "\\hat{\\beta} = \\text{argmin}_{\\beta_0, \\beta_1, \\ldots, \\beta_p} \\text{RSS}.\n",
    "\\end{equation*}\n",
    "\n",
    "</div>"
   ]
  },
  {
   "cell_type": "markdown",
   "metadata": {},
   "source": [
    "Regresja `sales` względem `TV`, `radio` i `newspaper` dla danych `advertising`:"
   ]
  },
  {
   "cell_type": "code",
   "execution_count": 3,
   "metadata": {},
   "outputs": [
    {
     "data": {
      "text/html": [
       "<table class=\"simpletable\">\n",
       "<tr>\n",
       "      <td></td>         <th>coef</th>     <th>std err</th>      <th>t</th>      <th>P>|t|</th>  <th>[0.025</th>    <th>0.975]</th>  \n",
       "</tr>\n",
       "<tr>\n",
       "  <th>const</th>     <td>    2.9389</td> <td>    0.312</td> <td>    9.422</td> <td> 0.000</td> <td>    2.324</td> <td>    3.554</td>\n",
       "</tr>\n",
       "<tr>\n",
       "  <th>TV</th>        <td>    0.0458</td> <td>    0.001</td> <td>   32.809</td> <td> 0.000</td> <td>    0.043</td> <td>    0.049</td>\n",
       "</tr>\n",
       "<tr>\n",
       "  <th>radio</th>     <td>    0.1885</td> <td>    0.009</td> <td>   21.893</td> <td> 0.000</td> <td>    0.172</td> <td>    0.206</td>\n",
       "</tr>\n",
       "<tr>\n",
       "  <th>newspaper</th> <td>   -0.0010</td> <td>    0.006</td> <td>   -0.177</td> <td> 0.860</td> <td>   -0.013</td> <td>    0.011</td>\n",
       "</tr>\n",
       "</table>"
      ],
      "text/plain": [
       "<class 'statsmodels.iolib.table.SimpleTable'>"
      ]
     },
     "execution_count": 3,
     "metadata": {},
     "output_type": "execute_result"
    }
   ],
   "source": [
    "model = sm.OLS(advertising.loc[:, 'sales'], sm.add_constant(advertising.loc[:, 'TV radio newspaper'.split()]))\n",
    "result = model.fit()\n",
    "result.summary().tables[1]"
   ]
  },
  {
   "cell_type": "markdown",
   "metadata": {},
   "source": [
    "A zatem przy ustalonych nakładach na `TV` i `newspaper` wzrost nakładów na `radio` o 1 tys. USD prowadzi do wzrostu sprzedaży o 189 jednostek produktu. Podobnie, przy ustalonych nakładach na `radio` i `newspaper` wzrost nakładów na `TV` o 1 tys. USD prowadzi do wzrostu sprzedaży o 46 jednostek produktu. \n",
    "\n",
    "Duża statystyka $t$ i mała $p$-wartość wskazują na istotność statystyczną `TV` i `radio`. Jednak `newspaper` ma dużą $p$-wartość, co sugeruje, że nie jest istotny statystycznie. Powinniśmy zatem przyjąć hipotezę zerową, że jest równy 0, mimo że w przypadku regresji jednokrotnej współczynnik ten był istotny.\n",
    "\n",
    "Źródłem tego fenomenu jest fakt, że `newspaper` jest skorelowany z `radio`: duże nakłady na `radio` oznaczają równocześnie duże nakłady na `newspaper`. Współczynnik regresji `newspaper` jest zatem nadmiarowy, ponieważ informacja o nakładach na `newspaper` jest już zawarta w nakładach na `radio`.\n",
    "\n",
    "Tabela korelacji:"
   ]
  },
  {
   "cell_type": "code",
   "execution_count": 4,
   "metadata": {},
   "outputs": [
    {
     "data": {
      "image/png": "[encoded data removed]",
      "text/plain": [
       "<Figure size 640x480 with 2 Axes>"
      ]
     },
     "metadata": {},
     "output_type": "display_data"
    }
   ],
   "source": [
    "sns.heatmap(advertising.corr(), annot=True, cmap='viridis');"
   ]
  },
  {
   "cell_type": "markdown",
   "metadata": {},
   "source": [
    "### Test istnienia relacji między predyktorami a zmienną celu"
   ]
  },
  {
   "cell_type": "markdown",
   "metadata": {},
   "source": [
    "Sprawdzamy, czy istnieje relacja między **którymkolwiek** z predyktorów a zmienną celu. Rozważmy hipotezę zerową, że wszystkie współczynniki regresji są równe 0:\n",
    "\n",
    "\\begin{equation*}\n",
    "H_0: \\beta_1 = \\beta_2 = \\ldots = \\beta_p = 0,\n",
    "\\end{equation*}\n",
    "\n",
    "kontra hipotezę alternatywną, że przynajmniej jeden z nich jest różny od 0:\n",
    "\n",
    "\\begin{equation*}\n",
    "H_1: \\beta_j \\neq 0 \\text{ dla przynajmniej jednego } j.\n",
    "\\end{equation*}\n",
    "\n",
    "Pomijamy $\\beta_0$, gdyż ten parametr nie tworzy relacji między predyktorami a zmienną celu.\n",
    "\n",
    "Statystyka wykorzystywana w tym teście to **statystyka $F$** (*F-statistic*), zdefiniowana jako"
   ]
  },
  {
   "cell_type": "markdown",
   "metadata": {},
   "source": [
    "<div class=\"wzor\">\n",
    "\n",
    "\\begin{equation*}\n",
    "F = \\frac{(\\text{TSS} - \\text{RSS})/p}{\\text{RSS}/(n-p-1)},\n",
    "\\end{equation*}\n",
    "\n",
    "</div>"
   ]
  },
  {
   "cell_type": "markdown",
   "metadata": {},
   "source": [
    "gdzie $\\text{TSS} = \\sum_{i=1}^n (y_i - \\bar{y})^2$ jest całkowitą sumą kwadratów a $\\text{RSS} = \\sum_{i=1}^n (y_i - \\hat{y}_i)^2$ jest sumą kwadratów reszt. Pamiętamy, że $\\text{RSS}$ jest miarą wariancji pozostałej w danych po zastosowaniu modelu, czyli wariancji, której model nie zdołał wyjaśnić. Z kolei $\\text{TSS} - \\text{RSS}$ jest miarą wariancji wyjaśnionej przez model. Stąd statystykę $F$ można interpretować jako\n",
    "\n",
    "\\begin{equation*}\n",
    "F = \\frac{\\text{wariancja wyjaśniona przez model}}{\\text{wariancja pozostała w danych po zastosowaniu modelu}}.\n",
    "\\end{equation*}\n",
    "\n",
    "Bardziej formalnie, wiadomo, że jeśli założenia modelu liniowego są spełnione to\n",
    "\n",
    "\\begin{equation*}\n",
    "\\mathbb{E}(\\text{RSS}/(n-p-1)) = \\sigma^2,\n",
    "\\end{equation*}\n",
    "\n",
    "a jeśli hipoteza zerowa jest prawdziwa, to\n",
    "\n",
    "\\begin{equation*}\n",
    "\\mathbb{E}((\\text{TSS} - \\text{RSS})/p) = \\sigma^2.\n",
    "\\end{equation*}\n",
    "\n",
    "Zatem jeśli hipoteza zerowa jest prawdziwa, to wartość statystyki $F$ powinna oscylować wokół 1. Jeśli natomiast hipoteza zerowa jest fałszywa, to wartość statystyki $F$ powinna być wyraźnie większa od 1. Zauważmy, że jeśli model został dopasowany metodą najmniejszych kwadratów, to zawsze $\\text{RSS} \\leqslant \\text{TSS}$ (gdyż wtedy model wyjaśnia nie mniej niż zwykła średnia) i w konsekwencji $F \\geqslant 0$."
   ]
  },
  {
   "cell_type": "markdown",
   "metadata": {},
   "source": [
    "Statystyka $F$ w regresji `sales` względem `TV`, `radio` i `newspaper`:"
   ]
  },
  {
   "cell_type": "code",
   "execution_count": 5,
   "metadata": {},
   "outputs": [
    {
     "data": {
      "text/html": [
       "<table class=\"simpletable\">\n",
       "<caption>OLS Regression Results</caption>\n",
       "<tr>\n",
       "  <th>Dep. Variable:</th>          <td>sales</td>      <th>  R-squared:         </th> <td>   0.897</td>\n",
       "</tr>\n",
       "<tr>\n",
       "  <th>Model:</th>                   <td>OLS</td>       <th>  Adj. R-squared:    </th> <td>   0.896</td>\n",
       "</tr>\n",
       "<tr>\n",
       "  <th>Method:</th>             <td>Least Squares</td>  <th>  F-statistic:       </th> <td>   570.3</td>\n",
       "</tr>\n",
       "<tr>\n",
       "  <th>Date:</th>             <td>Sun, 22 Oct 2023</td> <th>  Prob (F-statistic):</th> <td>1.58e-96</td>\n",
       "</tr>\n",
       "<tr>\n",
       "  <th>Time:</th>                 <td>22:41:55</td>     <th>  Log-Likelihood:    </th> <td> -386.18</td>\n",
       "</tr>\n",
       "<tr>\n",
       "  <th>No. Observations:</th>      <td>   200</td>      <th>  AIC:               </th> <td>   780.4</td>\n",
       "</tr>\n",
       "<tr>\n",
       "  <th>Df Residuals:</th>          <td>   196</td>      <th>  BIC:               </th> <td>   793.6</td>\n",
       "</tr>\n",
       "<tr>\n",
       "  <th>Df Model:</th>              <td>     3</td>      <th>                     </th>     <td> </td>   \n",
       "</tr>\n",
       "<tr>\n",
       "  <th>Covariance Type:</th>      <td>nonrobust</td>    <th>                     </th>     <td> </td>   \n",
       "</tr>\n",
       "</table>"
      ],
      "text/plain": [
       "<class 'statsmodels.iolib.table.SimpleTable'>"
      ]
     },
     "execution_count": 5,
     "metadata": {},
     "output_type": "execute_result"
    }
   ],
   "source": [
    "model = sm.OLS(advertising.loc[:, 'sales'], sm.add_constant(advertising.loc[:, 'TV radio newspaper'.split()]))\n",
    "result = model.fit()\n",
    "result.summary().tables[0]"
   ]
  },
  {
   "cell_type": "markdown",
   "metadata": {},
   "source": [
    "Wartość $F$ wynosi 570.3, czyli jest bardzo duża. Z kolei $p$-wartość dla tej statystyki wynosi 1.58e-96, czyli jest ekstremalnie mała. Mamy zatem bardzo silną podstawę do odrzucenia hipotezy zerowej i przyjęcia hipotezy alternatywnej, że przynajmniej jeden z parametrów `TV`, `radio`, `newspaper` jest różny od 0. \n",
    "\n",
    "$p$-wartość w tym teście obliczana jest następująco. Jeśli hipoteza zerowa jest prawdziwa, to statystyka $F$ ma rozkład $F$-Snedecora z $p$ i $n-p-1$ stopniami swobody. Niech $F_{\\text{score}}$ będzie wartością statystyki $F$ dla danych treningowych. Wówczas\n",
    "\n",
    "\\begin{equation*}\n",
    "p = P(F>F_{\\text{score}}|H_0) = P(F_{p, n-p-1} > F_{\\text{score}}),\n",
    "\\end{equation*}\n",
    "\n",
    "gdzie $F_{p, n-p-1}$ jest zmienną losową o rozkładzie $F$-Snedecora z $p$ i $n-p-1$ stopniami swobody. W Pythonie $p$-wartość w tym teście obliczymy za pomocą funkcji `scipy.stats.f.sf`. Symbol `sf` oznacza *survival function*, czyli funkcję prawdopodobieństwa dla zmiennej losowej $X$ zdefiniowaną jako $P(X>x)$ (dopełnienie dystrybuanty do 1)."
   ]
  },
  {
   "cell_type": "markdown",
   "metadata": {},
   "source": [
    "#### Test zależności od podzbioru predyktorów"
   ]
  },
  {
   "cell_type": "markdown",
   "metadata": {},
   "source": [
    "Powyżej sprawdzaliśmy, czy istnieje relacja między **którymkolwiek** z $p$ predyktorów a zmienną celu. Często interesuje nas jednak, czy istnieje relacja zmienną celu a **wybranym podzbiorem** predyktorów. Rozważmy następującą hipotezę zerową:\n",
    "\n",
    "\\begin{equation*}\n",
    "H_0: \\beta_{p-q+1} = \\beta_{p-q+2} = \\ldots = \\beta_p = 0,\n",
    "\\end{equation*}\n",
    "\n",
    "kontra hipoteza alternatywna:\n",
    "\n",
    "\\begin{equation*}\n",
    "H_1: \\beta_j \\neq 0 \\text{ dla przynajmniej jednego } j \\in \\{p-q+1, p-q+2, \\ldots, p\\}.\n",
    "\\end{equation*}\n",
    "\n",
    "Przyjęliśmy tu dla wygody, że interesuje nas ostatnich $q$ predyktorów, ale w praktyce jest to oczywiście dowolny podzbiór predyktorów o liczności $q$.\n",
    "\n",
    "Statystyka $F$ w tym teście ma postać:"
   ]
  },
  {
   "cell_type": "markdown",
   "metadata": {},
   "source": [
    "\n",
    "<div class=\"wzor\">\n",
    "\n",
    "\\begin{equation*}\n",
    "F = \\frac{(\\text{RSS}_0 - \\text{RSS})/q}{\\text{RSS}/(n-p-1)}.\n",
    "\\end{equation*}\n",
    "\n",
    "</div>"
   ]
  },
  {
   "cell_type": "markdown",
   "metadata": {},
   "source": [
    "Symbolem $\\text{RSS}_0$ oznaczamy sumę kwadratów reszt dla modelu, w którym uwzględniamy wszystkie poza **ostatnimi** $q$ predyktorami. Wówczas $\\text{RSS}_0$ jest miarą wariancji pozostałej w danych po zastosowaniu modelu, w którym uwzględniamy wszystkie poza ostatnimi $q$ predyktorami. Z kolei $\\text{RSS}$ jest miarą wariancji pozostałej w danych po zastosowaniu modelu, w którym uwzględniamy wszystkie $p$ predyktorów. Stąd statystykę $F$ można interpretować jako \n",
    "\n",
    "\\begin{equation*}\n",
    "F = \\frac{\\text{wariancja wyjaśniona przez model z wyłączeniem ostatnich } q \\text{ predyktorów}}{\\text{wariancja pozostała w danych po zastosowaniu modelu z wszystkimi predyktorami}}\n",
    "\\end{equation*}"
   ]
  },
  {
   "cell_type": "markdown",
   "metadata": {},
   "source": [
    "Obliczmy statystykę $F$ dla testu, czy `newspaper` wnosi istotny wkład do modelu regresji `sales` względem `TV`, `radio` i `newspaper`:"
   ]
  },
  {
   "cell_type": "code",
   "execution_count": 6,
   "metadata": {},
   "outputs": [
    {
     "data": {
      "text/plain": [
       "0.031228045103150005"
      ]
     },
     "execution_count": 6,
     "metadata": {},
     "output_type": "execute_result"
    }
   ],
   "source": [
    "model_TV_radio = sm.OLS(advertising.loc[:, 'sales'], sm.add_constant(advertising.loc[:, 'TV radio'.split()])).fit()\n",
    "model_full = sm.OLS(advertising.loc[:, 'sales'], sm.add_constant(advertising.loc[:, 'TV radio newspaper'.split()])).fit()\n",
    "RSS0 = model_TV_radio.ssr\n",
    "RSS = model_full.ssr\n",
    "F = ((RSS0 - RSS) / 1) / (RSS / (200 - 3 - 1))\n",
    "F"
   ]
  },
  {
   "cell_type": "markdown",
   "metadata": {},
   "source": [
    "Odpowiadająca tej statystyce $p$-wartość:"
   ]
  },
  {
   "cell_type": "code",
   "execution_count": 7,
   "metadata": {},
   "outputs": [
    {
     "data": {
      "text/plain": [
       "0.8599150500806343"
      ]
     },
     "execution_count": 7,
     "metadata": {},
     "output_type": "execute_result"
    }
   ],
   "source": [
    "stats.f.sf(F, 1, 200 - 3 - 1)"
   ]
  },
  {
   "cell_type": "markdown",
   "metadata": {},
   "source": [
    "Duża $p$-wartość każe podtrzymać hipotezę zerową, że `newspaper` nie wnosi istotnego wkładu do modelu regresji `sales` względem `TV`, `radio` i `newspaper`.\n",
    "\n",
    "Zauważmy, że tak uzyskana wartość statystyki $F$ jest równa kwadratowi statystyki $t$ dla współczynnika regresji `newspaper` w modelu regresji `sales` względem `TV`, `radio` i `newspaper`:"
   ]
  },
  {
   "cell_type": "code",
   "execution_count": 8,
   "metadata": {},
   "outputs": [
    {
     "data": {
      "text/plain": [
       "(0.031228045103150005, 0.031228045103172633)"
      ]
     },
     "execution_count": 8,
     "metadata": {},
     "output_type": "execute_result"
    }
   ],
   "source": [
    "F, model_full.tvalues.loc['newspaper']**2"
   ]
  },
  {
   "cell_type": "markdown",
   "metadata": {},
   "source": [
    "Równość ta nie jest przypadkiem. Test wykonywany za pomocą statystyki $F$ sprawdzający czy efekt dodania jednego predyktora do modelu regresji jest istotny statystycznie, jest równoważny testowi, czy współczynnik regresji tego predyktora jest różny od 0."
   ]
  },
  {
   "cell_type": "markdown",
   "metadata": {},
   "source": [
    "Warto zauważyć, że hipotezy zerowej, że wszystkie współczynniki regresji są równe 0 nie możemy obalić wykonując indywidualne testy dla każdego z $p$ predyktorów. Nawet gdyby któryś z takich testów dał istotny wynik, to nie możemy być pewni, że nie jest to efekt przypadku, zwłaszcza gdy $p$ jest duże. \n",
    "\n",
    "Oto przykład eksperymentalny. Generujemy ze standardowego rozkładu normalnego $p=100$ kolumn o $n=1000$ obserwacjach każda. W każdej kolumnie wartości są niezależne od siebie. Jako zmienną celu bierzemy $1000$ losowych wartości ze standardowego rozkładu normalnego. Wówczas każdy z $p$ predyktorów jest niezależny od zmiennej celu. Jednak jeśli wykonamy $p$ testów, to z prawdopodobieństwem $1-(1-0.05)^p$ przynajmniej jeden z nich da istotny wynik. Dla $p=100$ jest to prawdopodobieństwo $1-(1-0.05)^{100} = 0.994$, czyli bardzo bliskie 1. \n",
    "\n",
    "Generowanie danych:"
   ]
  },
  {
   "cell_type": "code",
   "execution_count": 9,
   "metadata": {},
   "outputs": [],
   "source": [
    "n = 1000\n",
    "p = 100\n",
    "\n",
    "X = np.random.normal(size=(n, p))\n",
    "y = np.random.normal(size=n)\n",
    "model_full = sm.OLS(y, sm.add_constant(X)).fit()"
   ]
  },
  {
   "cell_type": "markdown",
   "metadata": {},
   "source": [
    "Sprawdzenie ile predyktorów jest istotnych na podstawie indywidualnych testów $t$:"
   ]
  },
  {
   "cell_type": "code",
   "execution_count": 10,
   "metadata": {},
   "outputs": [
    {
     "data": {
      "text/plain": [
       "array([0.04274841])"
      ]
     },
     "execution_count": 10,
     "metadata": {},
     "output_type": "execute_result"
    }
   ],
   "source": [
    "model_full.pvalues[model_full.pvalues < 0.05]"
   ]
  },
  {
   "cell_type": "markdown",
   "metadata": {},
   "source": [
    "Test hipotezy zerowej, że wszystkie współczynniki regresji są równe 0 (a wiemy, że są):"
   ]
  },
  {
   "cell_type": "code",
   "execution_count": 11,
   "metadata": {},
   "outputs": [
    {
     "data": {
      "text/plain": [
       "0.9975724109887328"
      ]
     },
     "execution_count": 11,
     "metadata": {},
     "output_type": "execute_result"
    }
   ],
   "source": [
    "model_full.f_pvalue"
   ]
  },
  {
   "cell_type": "markdown",
   "metadata": {},
   "source": [
    "### Które predyktory są istotne?"
   ]
  },
  {
   "cell_type": "markdown",
   "metadata": {},
   "source": [
    "Problem selekcji zmiennych (*feature selection* albo *variable selection*) polega na wskazaniu tych zmiennych objaśniających, które mają istotny wpływ na zmienną celu. Po stwierdzeniu za pomocą testu $F$, że istnieje relacja między zmienną celu a pewnymi spośród $p$ predyktorów, możemy chcieć zidentyfikować te predyktory, które są istotne za pomocą indywidualnych testów $t$. Poprawność tej metody spada niestety wraz ze wzrostem liczby predyktorów $p$: jak zasugerowaliśmy powyżej, gdy $p$ jest duże, to wzrasta prawdopodobieństwo błędnego uznania niektórych predyktorów za istotne z powodu czystego przypadku. \n",
    "\n",
    "Inne podejście polega na testowaniu wszystkich możliwych podzbiorów predyktorów. W przypadku $p$ predyktorów istnieje $2^p$ możliwych podzbiorów. Dla każdego z nich dopasowujemy model regresji a na koniec wybieramy najlepszy stosując jakąś miarę jakości modelu, np. skorygowany $R^2$, kryterium AIC, kryterium BIC lub jeszcze coś innego. Wadą tego podejścia jest to, że dla dużych $p$ liczba możliwych podzbiorów jest ogromna.\n",
    "\n",
    "Jeśli nie jest możliwe przejrzenie wszystkich możliwych podzbiorów, to można zastosować jeden z klasycznych algorytmów przeszukiwania:\n",
    "\n",
    "* *forward selection*: zaczynamy od modelu *zerowego* przewidującego średnią zmiennej celu. Następnie dodajemy do niego każdy z $p$ predyktorów i wybieramy ten, który daje najniższy $\\text{RSS}$. Następnie dodajemy do modelu ten spośród pozostałych $p-1$ predyktorów, który daje najniższy $\\text{RSS}$. Procedurę powtarzamy, aż do spełnienia pewnego kryterium stopu.\n",
    "* *backward selection*: zaczynamy od modelu zawierającego wszystkie $p$ predyktorów. Następnie usuwamy z niego zmienną o największej $p$-wartości, czyli najmniej istotną. Procedurę powtarzamy, aż do spełnienia pewnego kryterium stopu.\n",
    "* *mixed selection*: zaczynamy od modelu zerowego. Dodajemy do niego predyktory dające najlepsze dopasowanie, tak jak w *forward selection*. Wówczas $p$-wartości dla predyktorów w modelu mogą wzrastać. Gdy $p$-wartość dla któregoś z predyktorów przekroczy ustalony próg, to usuwamy ten predyktor z modelu. Procedurę powtarzamy, aż do spełnienia pewnego kryterium stopu."
   ]
  },
  {
   "cell_type": "markdown",
   "metadata": {},
   "source": [
    "### Jakość dopasowania"
   ]
  },
  {
   "cell_type": "markdown",
   "metadata": {},
   "source": [
    "Dla modelu o $p$ predyktorach *resztowy błąd standardowy* (*residual standard error*) definiujemy jako"
   ]
  },
  {
   "cell_type": "markdown",
   "metadata": {},
   "source": [
    "<div class=\"wzor\">\n",
    "\n",
    "\\begin{equation*}\n",
    "\\text{RSE} = \\sqrt{\\frac{ \\text{RSS}}{n-p-1}}.\n",
    "\\end{equation*}\n",
    "\n",
    "</div>"
   ]
  },
  {
   "cell_type": "markdown",
   "metadata": {},
   "source": [
    "Współczynnik determinacji $R^2$ definiujemy tak samo jak w przypadku regresji jednokrotnej:"
   ]
  },
  {
   "cell_type": "markdown",
   "metadata": {},
   "source": [
    "<div class=\"wzor\">\n",
    "\n",
    "\\begin{equation*}\n",
    "R^2 = \\frac{\\text{TSS} - \\text{RSS}}{\\text{TSS}} = 1 - \\frac{\\text{RSS}}{\\text{TSS}}.\n",
    "\\end{equation*}\n",
    "\n",
    "</div>"
   ]
  },
  {
   "cell_type": "markdown",
   "metadata": {},
   "source": [
    "Te dwie wielkości to podstawowe miary jakości dopasowania modelu regresji. \n",
    "\n",
    "Dla modelu `sales` względem `TV` współczynnik determinacji wynosi 0.61, a resztowy błąd standardowy 3.26:"
   ]
  },
  {
   "cell_type": "code",
   "execution_count": 12,
   "metadata": {},
   "outputs": [
    {
     "data": {
      "text/plain": [
       "(0.611875050850071, 3.2586563686504624)"
      ]
     },
     "execution_count": 12,
     "metadata": {},
     "output_type": "execute_result"
    }
   ],
   "source": [
    "result = sm.OLS(advertising.loc[:, 'sales'], sm.add_constant(advertising.loc[:, 'TV'])).fit()\n",
    "result.rsquared, result.mse_resid**.5"
   ]
  },
  {
   "cell_type": "markdown",
   "metadata": {},
   "source": [
    "Dodanie do modelu `radio` zmniejsza resztowy błąd standardowy do 1.68, a współczynnik determinacji wzrasta do 0.90:"
   ]
  },
  {
   "cell_type": "code",
   "execution_count": 13,
   "metadata": {},
   "outputs": [
    {
     "data": {
      "text/plain": [
       "(0.8971942610828956, 1.681360912508001)"
      ]
     },
     "execution_count": 13,
     "metadata": {},
     "output_type": "execute_result"
    }
   ],
   "source": [
    "result = sm.OLS(advertising.loc[:, 'sales'], sm.add_constant(advertising.loc[:, 'TV radio'.split()])).fit()\n",
    "result.rsquared, result.mse_resid**.5"
   ]
  },
  {
   "cell_type": "markdown",
   "metadata": {},
   "source": [
    "Natomiast dodanie do modelu `newspaper` nie wprowadza istotnej poprawy:"
   ]
  },
  {
   "cell_type": "code",
   "execution_count": 14,
   "metadata": {},
   "outputs": [
    {
     "data": {
      "text/plain": [
       "(0.8972106381789521, 1.6855103734147443)"
      ]
     },
     "execution_count": 14,
     "metadata": {},
     "output_type": "execute_result"
    }
   ],
   "source": [
    "result = sm.OLS(advertising.loc[:, 'sales'], sm.add_constant(advertising.loc[:, 'TV radio newspaper'.split()])).fit()\n",
    "result.rsquared, result.mse_resid**.5"
   ]
  },
  {
   "cell_type": "markdown",
   "metadata": {},
   "source": [
    "W rzeczywistości $\\text{RSE}$ nawet nieznacznie wzrasta. Jest to spowodowane tym, że co prawda $\\text{RSS}$ musi spaść po dodaniu nowego predyktora, ale w mianowniku $\\text{RSE}$ mamy $n-p-1$ zależne od $p$, które powoduje zmianę w przeciwną stronę. "
   ]
  },
  {
   "cell_type": "markdown",
   "metadata": {},
   "source": [
    "### Jakość predykcji"
   ]
  },
  {
   "cell_type": "markdown",
   "metadata": {},
   "source": [
    "Predykcja zaburzana jest przez trzy różne źródła błędów:\n",
    "\n",
    "1. Stopień w jakim parametry $\\hat{\\beta}_0, \\hat{\\beta}_1, \\ldots, \\hat{\\beta}_p$ odstają od prawdziwych parametrów $\\beta_0, \\beta_1, \\ldots, \\beta_p$. Jest to błąd *redukowalny*: możemy go zmniejszyć, gdy zwiększymy liczbę obserwacji $n$. Ten błąd decyduje o tym jak bardzo $\\hat{y}$ może się różnić się prawdziwej wartości oczekiwanej $f(x)$ dla nowej obserwacji $x$. Dla oszacowania tej rozbieżności oblicza sie *przedział ufności* (*confidence interval*) dla $\\hat{y}$.\n",
    "2. Być może prawdziwa zależność $f$ między predyktorami a zmienną celu jest nieliniowa, podczas gdy my dopasowaliśmy model liniowy. Powstały w ten sposób błąd nazywamy *obciążeniem* (*bias*). Obciążenie jest również błędem *redukowalnym*: możemy je zmniejszyć dobierając bardziej adekwatny model. \n",
    "4. Nawet gdybyśmy znali prawdziwą zależność $f(X)$, to jeszcze pozostaje błąd losowy $\\epsilon$ związany z postacią modelu $Y=f(X)+\\varepsilon$. Błąd ten jest niemożliwy do usunięcia. Pokazuje on jak bardzo $\\hat{y}$ może się różnić się od prawdziwej wartości $y$ dla nowej obserwacji $x$. Dla oszacowania tej rozbieżności wyznacza się *przedział predykcji* (*prediction interval*) dla $\\hat{y}$.\n",
    "\n",
    "Oba te przedziały są wyśrodkowane wokół wartości przewidywanej $\\hat{y}$, ale różnią się długością: przedział predykcji jest zawsze dłuższy od przedziału ufności, gdyż poza błędem oszacowania wartości średniej $\\hat{y}$ uwzględnia również błąd losowy $\\epsilon$.\n",
    "\n",
    "Średnia oraz przedziały ufności i predykcji dla modelu `sales` względem `TV` i `radio` dla nowej obserwacji `TV=100`, `radio=20`:"
   ]
  },
  {
   "cell_type": "code",
   "execution_count": 15,
   "metadata": {},
   "outputs": [
    {
     "data": {
      "text/html": [
       "<div>\n",
       "<style scoped>\n",
       "    .dataframe tbody tr th:only-of-type {\n",
       "        vertical-align: middle;\n",
       "    }\n",
       "\n",
       "    .dataframe tbody tr th {\n",
       "        vertical-align: top;\n",
       "    }\n",
       "\n",
       "    .dataframe thead th {\n",
       "        text-align: right;\n",
       "    }\n",
       "</style>\n",
       "<table border=\"1\" class=\"dataframe\">\n",
       "  <thead>\n",
       "    <tr style=\"text-align: right;\">\n",
       "      <th></th>\n",
       "      <th>mean</th>\n",
       "      <th>mean_se</th>\n",
       "      <th>mean_ci_lower</th>\n",
       "      <th>mean_ci_upper</th>\n",
       "      <th>obs_ci_lower</th>\n",
       "      <th>obs_ci_upper</th>\n",
       "    </tr>\n",
       "  </thead>\n",
       "  <tbody>\n",
       "    <tr>\n",
       "      <th>0</th>\n",
       "      <td>11.256466</td>\n",
       "      <td>0.137526</td>\n",
       "      <td>10.985254</td>\n",
       "      <td>11.527677</td>\n",
       "      <td>7.929616</td>\n",
       "      <td>14.583316</td>\n",
       "    </tr>\n",
       "  </tbody>\n",
       "</table>\n",
       "</div>"
      ],
      "text/plain": [
       "        mean   mean_se  mean_ci_lower  mean_ci_upper  obs_ci_lower  \\\n",
       "0  11.256466  0.137526      10.985254      11.527677      7.929616   \n",
       "\n",
       "   obs_ci_upper  \n",
       "0     14.583316  "
      ]
     },
     "execution_count": 15,
     "metadata": {},
     "output_type": "execute_result"
    }
   ],
   "source": [
    "result = sm.OLS(advertising.loc[:, 'sales'], sm.add_constant(advertising.loc[:, 'TV radio'.split()])).fit()\n",
    "predictions = result.get_prediction([1, 100, 20])\n",
    "predictions.summary_frame(alpha=0.05)"
   ]
  }
 ],
 "metadata": {
  "kernelspec": {
   "display_name": "py312",
   "language": "python",
   "name": "python3"
  },
  "language_info": {
   "codemirror_mode": {
    "name": "ipython",
    "version": 3
   },
   "file_extension": ".py",
   "mimetype": "text/x-python",
   "name": "python",
   "nbconvert_exporter": "python",
   "pygments_lexer": "ipython3",
   "version": "3.12.4"
  }
 },
 "nbformat": 4,
 "nbformat_minor": 2
}
