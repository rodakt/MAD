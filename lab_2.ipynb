{
 "cells": [
  {
   "cell_type": "markdown",
   "metadata": {},
   "source": [
    "# Modele analizy danych\n",
    "\n",
    "### 2024/2025, semestr zimowy\n",
    "Tomasz Rodak\n",
    "\n",
    "---"
   ]
  },
  {
   "cell_type": "markdown",
   "metadata": {},
   "source": [
    "## Importance sampling\n",
    "\n",
    "W poprzednim arkuszu wykorzystaliśmy przekształcenie\n",
    "\n",
    "\\begin{equation*}\n",
    "\\begin{aligned}\n",
    "\\int_\\Omega f(\\mathbf{x}) d\\mathbf{x} &= \\text{Vol}(\\Omega) \\int_\\Omega f(\\mathbf{x}) \\frac{d\\mathbf{x}}{\\text{Vol}(\\Omega)} \\\\\n",
    "&= \\text{Vol}(\\Omega) \\mathbb{E}[f(\\mathbf{x})], \n",
    "\\end{aligned}\n",
    "\\end{equation*} \n",
    "\n",
    "aby wykazać że\n",
    "\n",
    "\\begin{equation*}\n",
    "\\frac{1}{N} \\sum_{i=1}^N f(\\mathbf{x}_i) \\xrightarrow{} \\mathbb{E}[f(\\mathbf{x})],\\quad N\\to\\infty,\n",
    "\\end{equation*}\n",
    "\n",
    "i w konsekwencji, że\n",
    "\n",
    "\\begin{equation*}\n",
    "\\frac{\\text{Vol}(\\Omega)}{N} \\sum_{i=1}^N f(\\mathbf{x}_i) \\xrightarrow{} \\int_\\Omega f(\\mathbf{x}) d\\mathbf{x},\\quad N\\to\\infty.\n",
    "\\end{equation*}\n",
    "\n",
    "Punkty $\\mathbf{x}_i$ w powyższym wzorze są próbkowane z rozkładu jednostajnego na $\\Omega$ i względem tego rozkładu jest liczona wartość oczekiwana.\n",
    "\n",
    "Podane wyżej rozumowanie można uogólnić na szerszą rodzinę rozkładów. \n",
    "\n",
    "Niech $p(\\mathbf{x})$ będzie gęstością rozkładu prawdopodobieństwa na $\\Omega$ (niekoniecznie ograniczonym).\n",
    "Wówczas próbkując punkty $\\mathbf{x}_i$ z rozkładu $p(\\mathbf{x})$ w myśl prawa wielkich liczb otrzymujemy:\n",
    "\n",
    "\\begin{equation*}\n",
    "\\frac{1}{N} \\sum_{i=1}^N f(\\mathbf{x}_i) \\xrightarrow{} \\mathbb{E}_p[f(\\mathbf{x})]=\\int_\\Omega f(\\mathbf{x}) p(\\mathbf{x}) d\\mathbf{x},\\quad N\\to\\infty,\n",
    "\\end{equation*}\n",
    "\n",
    "o ile tylko wartość oczekiwana istnieje. W powyższym wzorze pisząc $\\mathbb{E}_p$ zaznaczamy, że wartość oczekiwana jest liczona względem rozkładu $p(\\mathbf{x})$. \n",
    "\n",
    "Załóżmy, że chcemy obliczyć całkę $\\int_\\Omega f(\\mathbf{x}) d\\mathbf{x}$, nie możemy jednak tego zrobić analitycznie ze względu na złożoność funkcji $f(\\mathbf{x})$. Jeśli $p(\\mathbf{x})$ jest rozkładem na $\\Omega$, takim że $p(\\mathbf{x}) > 0$ w każdym punkcie $\\mathbf{x} \\in \\Omega$, to:\n",
    "\n",
    "\\begin{equation*}\n",
    "\\begin{aligned}\n",
    "\\int_\\Omega f(\\mathbf{x}) d\\mathbf{x} &= \\int_\\Omega f(\\mathbf{x}) p(\\mathbf{x}) \\frac{dx}{p(\\mathbf{x})} \\\\\n",
    "&= \\mathbb{E}_p\\left[\\frac{f(\\mathbf{x})}{p(\\mathbf{x})}\\right]\n",
    "\\end{aligned}\n",
    "\\end{equation*}\n",
    "\n",
    "Zatem\n",
    "\n",
    "\\begin{equation*}\n",
    "\\frac{1}{N} \\sum_{i=1}^N \\frac{f(\\mathbf{x}_i)}{p(\\mathbf{x}_i)} \\xrightarrow{} \\int_\\Omega f(\\mathbf{x}) d\\mathbf{x},\\quad N\\to\\infty,\n",
    "\\end{equation*}\n",
    "\n",
    "o ile tylko całka $\\int_\\Omega f(\\mathbf{x}) d\\mathbf{x}$ istnieje.\n",
    "\n",
    "Wzór ten jest podstawą metody *importance sampling*. Wynika z niego, że całkę $\\int_\\Omega f(\\mathbf{x}) d\\mathbf{x}$ można obliczyć, próbkując punkty $\\mathbf{x}_i$ z rozkładu $p(\\mathbf{x})$ i odpowiednio ważąc wartości funkcji $f(\\mathbf{x})$. Wybór odpowiedniego rozkładu $p(\\mathbf{x})$ ma duże znaczenie dla efektywności obliczeń."
   ]
  },
  {
   "cell_type": "markdown",
   "metadata": {},
   "source": [
    "## Zadanie 2.1\n",
    "\n",
    "Niech $X$ będzie zmienną losową o standardowym rozkładzie normalnym, tzn. $X \\sim \\mathcal{N}(0, 1)$. Oblicz $P(X > 2)$. \n",
    "Porównaj wynik z rezultatem uzyskanym przez wykorzystanie funkcji `norm.cdf` z pakietu `scipy.stats`.\n",
    "\n",
    "*Wskazówka:* \n",
    "\n",
    "\\begin{equation*}\n",
    "P(X > 2) = \\frac{1}{\\sqrt{2\\pi}} \\int_2^\\infty e^{-x^2/2} dx.\n",
    "\\end{equation*}"
   ]
  },
  {
   "cell_type": "markdown",
   "metadata": {},
   "source": [
    "## Zadanie 2.2\n",
    "\n",
    "Rozważmy całkę\n",
    "\n",
    "\\begin{equation*}\n",
    "I = \\int_{-\\infty}^\\infty e^{-x^2} dx=\\sqrt{\\pi}.\n",
    "\\end{equation*}\n",
    "\n",
    "Celem tego zadania jest eksperymentalna analiza zależności metody importance sampling od liczby próbek $N$ oraz od wyboru rozkładu $p(\\mathbf{x})$. Analizę przeprowadzimy dla problemu numerycznego obliczania całki $I$.\n",
    "\n",
    "### 2.2.1\n",
    "\n",
    "Oblicz całkę $I$ metodą importance sampling próbkując punkty $x_i$ ($N=10^6$ próbek) ze standardowego rozkładu normalnego $\\mathcal{N}(0,1)$. Oblicz błąd względny w stosunku do wartości dokładnej."
   ]
  },
  {
   "cell_type": "code",
   "execution_count": null,
   "metadata": {},
   "outputs": [],
   "source": []
  },
  {
   "cell_type": "code",
   "execution_count": null,
   "metadata": {},
   "outputs": [],
   "source": []
  },
  {
   "cell_type": "markdown",
   "metadata": {},
   "source": [
    "### 2.2.2\n",
    "\n",
    "Zgodnie z teorią, błąd względny w metodzie importance sampling powinien maleć wraz ze wzrostem liczby próbek $N$ proporcjonalnie do $1/\\sqrt{N}$:\n",
    "\n",
    "\\begin{equation*}\n",
    "\\text{relative error} \\approx a\\cdot \\frac{1}{\\sqrt{N}}=a\\cdot N^{b},\n",
    "\\end{equation*}\n",
    "\n",
    "gdzie $b=-1/2$. \n",
    "Zlogarytmowanie obu stron tego równania prowadzi nas do zależności liniowej:\n",
    "\n",
    "\\begin{equation*}\n",
    "\\log(\\text{relative error}) \\approx b\\cdot \\log N + \\log a.\n",
    "\\end{equation*}\n",
    "\n",
    "Celem tego punktu jest eksperymentalne wyznaczenie współczynników $b$ i $a$ w problemie numerycznego obliczania całki $I$. Spodziewamy się, że $b$ będzie bliskie $-1/2$ zaś $a$ będzie zależeć od rozkładu $p(\\mathbf{x})$, z którego próbkujemy punkty $\\mathbf{x}_i$. W tym punkcie zakładamy, że $p(\\mathbf{x})$ jest standardowym rozkładem normalnym $\\mathcal{N}(0,1)$.\n",
    "\n",
    "Niech $M_1, M_2,\\ldots M_{100}$ będzie ciągiem geometrycznym, takim że $M_1=10^3$, $M_{100}=10^6$ i niech $N_k$, $k=1,\\ldots,100$ będzie zaokrągleniem $M_k$ w dół. \n",
    "* Dla każdego $N_k$ oblicz wartość całki $I$ metodą importance sampling próbkując $N_k$ punktów ze standardowego rozkładu normalnego $\\mathcal{N}(0,1)$. Oblicz błąd względny $\\text{relative error}$ względem wartości dokładnej.\n",
    "* Dopasuj prostą regresji liniowej do danych $\\log(\\text{relative error})$ względem $\\log N_k$.\n",
    "* Narysuj na jednym wykresie dane (wykres rozproszenia) oraz prostą regresji.\n",
    "* Wyznacz współczynniki $b$ i $a$. Zapisz zależność $\\text{relative error}$ od $N$ w postaci pozbawionej logarytmów. "
   ]
  },
  {
   "cell_type": "code",
   "execution_count": null,
   "metadata": {},
   "outputs": [],
   "source": []
  },
  {
   "cell_type": "code",
   "execution_count": null,
   "metadata": {},
   "outputs": [],
   "source": []
  },
  {
   "cell_type": "markdown",
   "metadata": {},
   "source": [
    "### 2.2.3\n",
    "\n",
    "Niech ciąg $N_k$ będzie jak w poprzednim punkcie. Wyznacz ciąg błędów względnych dla metody importance sampling względem rozkładów normalnych $\\mathcal{N}(0,.8^2)$, $\\mathcal{N}(0,1)$, $\\mathcal{N}(0,1.2^2)$. Narysuj na jednym wykresie proste regresji liniowej dla $\\log(\\text{relative error})$ względem $\\log N_k$ dla każdego z rozkładów. Czy któryś z rozkładów wydaje się być lepszy od pozostałych? Odpowiedź uzasadnij."
   ]
  },
  {
   "cell_type": "code",
   "execution_count": null,
   "metadata": {},
   "outputs": [],
   "source": []
  },
  {
   "cell_type": "code",
   "execution_count": null,
   "metadata": {},
   "outputs": [],
   "source": []
  },
  {
   "cell_type": "markdown",
   "metadata": {},
   "source": [
    "### 2.2.4\n",
    "\n",
    "Oblicz 100 razy całkę $I$ metodą importance sampling próbkując $N=10^6$ punktów z rozkładu normalnego $\\mathcal{N}(0,.8^2)$. Powtórz następnie analogiczne obliczenia dla rozkładów $\\mathcal{N}(0,1)$ oraz $\\mathcal{N}(0,1.2^2)$. Dla każdego z rozkładów narysuj wykres pudełkowy rozrzutu wyników. Czy jeden z rozkładów wydaje się być lepszy od pozostałych? Odpowiedź uzasadnij."
   ]
  },
  {
   "cell_type": "code",
   "execution_count": null,
   "metadata": {},
   "outputs": [],
   "source": []
  },
  {
   "cell_type": "code",
   "execution_count": null,
   "metadata": {},
   "outputs": [],
   "source": []
  },
  {
   "cell_type": "markdown",
   "metadata": {},
   "source": [
    "### 2.2.5\n",
    "\n",
    "Wyznacz eksperymentalnie rozkład $\\mathcal{N}(0, \\sigma^2)$, który daje najmniejszy błąd względny i najmniejszy rozrzut wyników w procesie obliczania całki $I$ metodą importance sampling. Jaki jest związek pomiędzy funkcją podcałkową w całce $I$ a gęstością znalezionego optymalnego rozkładu?"
   ]
  },
  {
   "cell_type": "code",
   "execution_count": null,
   "metadata": {},
   "outputs": [],
   "source": []
  },
  {
   "cell_type": "code",
   "execution_count": null,
   "metadata": {},
   "outputs": [],
   "source": []
  }
 ],
 "metadata": {
  "kernelspec": {
   "display_name": "py312",
   "language": "python",
   "name": "python3"
  },
  "language_info": {
   "codemirror_mode": {
    "name": "ipython",
    "version": 3
   },
   "file_extension": ".py",
   "mimetype": "text/x-python",
   "name": "python",
   "nbconvert_exporter": "python",
   "pygments_lexer": "ipython3",
   "version": "3.12.4"
  }
 },
 "nbformat": 4,
 "nbformat_minor": 2
}
