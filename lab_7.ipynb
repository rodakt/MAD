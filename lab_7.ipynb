{
 "cells": [
  {
   "cell_type": "markdown",
   "metadata": {},
   "source": [
    "# Modele analizy danych\n",
    "\n",
    "### 2024/2025, semestr zimowy\n",
    "Tomasz Rodak\n",
    "\n",
    "---"
   ]
  },
  {
   "cell_type": "markdown",
   "metadata": {},
   "source": [
    "### Zadanie 7.1\n",
    "\n",
    "Rozwiąż zadania 4.8.1, 4.8.4, 4.8.6, 4.8.7, 4.8.9, 4.8.12 z [ISLP](https://www.statlearning.com/).\n",
    "\n",
    "---"
   ]
  },
  {
   "cell_type": "code",
   "execution_count": null,
   "metadata": {},
   "outputs": [],
   "source": []
  },
  {
   "cell_type": "code",
   "execution_count": null,
   "metadata": {},
   "outputs": [],
   "source": []
  },
  {
   "cell_type": "markdown",
   "metadata": {},
   "source": [
    "### Zadanie 7.2\n",
    "\n",
    "Niech $Y$ będzie binarną zmienną losową o rozkładzie $P(Y=1) = p$ i $P(Y=0) = 1-p$. Niech $X\\in \\mathbb{R}$ będzie zmienną losową o rozkładzie warunkowym względem $Y$ postaci:\n",
    "\n",
    "\\begin{equation*}\n",
    "P(X=x|Y) = \\begin{cases}\n",
    "N(x|\\mu_1, \\sigma_1^2) & \\text{dla } Y=1, \\\\\n",
    "N(x|\\mu_0, \\sigma_0^2) & \\text{dla } Y=0.\n",
    "\\end{cases}\n",
    "\\end{equation*}\n",
    "\n",
    "Definiujemy model generujący dane w następujący sposób: \n",
    "1. Wylosuj wartość zmiennej $Y$ z rozkładu Bernoulliego z parametrem $p$.\n",
    "2. Jeśli $Y=1$, wylosuj wartość zmiennej $X$ z rozkładu normalnego o średniej $\\mu_1$ i wariancji $\\sigma_1^2$.\n",
    "3. Jeśli $Y=0$, wylosuj wartość zmiennej $X$ z rozkładu normalnego o średniej $\\mu_0$ i wariancji $\\sigma_0^2$.\n",
    "\n",
    "Dla tak zdefiniowanego modelu wyznacz rozkład warunkowy zmiennej $Y$ względem $X$.\n",
    "\n",
    "Ustal jakieś przykładowe wartości parametrów $p$, $\\mu_1$, $\\mu_0$, $\\sigma_1^2$, $\\sigma_0^2$ oraz $n$ dla liczby obserwacji w próbce. \n",
    "\n",
    "1. Wygeneruj próbkę z modelu dla $n$ obserwacji (eksperymentuj z różnymi wartościami $n$).\n",
    "2. Podziel próbkę na dwie części: treningową i testową.\n",
    "3. Wyznacz macierz pomyłek dla klasyfikatora Bayesa na zbiorze testowym.\n",
    "4. Dopasuj na zbiorze treningowym model regresji logistycznej. Wyznacz macierz pomyłek dla modelu na zbiorze testowym. Narysuj wspólny wykres krzywej logistycznej i punktów danych.\n",
    "5. Dopasuj na zbiorze treningowym model $k$-NN dla stosownie dobranego $k$. Wyznacz macierz pomyłek dla modelu na zbiorze testowym. \n",
    "6. Porównaj wyniki klasyfikatorów."
   ]
  },
  {
   "cell_type": "code",
   "execution_count": null,
   "metadata": {},
   "outputs": [],
   "source": []
  },
  {
   "cell_type": "code",
   "execution_count": null,
   "metadata": {},
   "outputs": [],
   "source": []
  }
 ],
 "metadata": {
  "kernelspec": {
   "display_name": "py312",
   "language": "python",
   "name": "python3"
  },
  "language_info": {
   "codemirror_mode": {
    "name": "ipython",
    "version": 3
   },
   "file_extension": ".py",
   "mimetype": "text/x-python",
   "name": "python",
   "nbconvert_exporter": "python",
   "pygments_lexer": "ipython3",
   "version": "3.12.4"
  }
 },
 "nbformat": 4,
 "nbformat_minor": 2
}
