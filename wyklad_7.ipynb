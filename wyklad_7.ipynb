{
 "cells": [
  {
   "cell_type": "markdown",
   "metadata": {},
   "source": [
    "<style>\n",
    ".wzor {\n",
    "  /* width: auto; */\n",
    "  /* padding: auto; */\n",
    "  border: 0.5rem solid gray;\n",
    "  /* margin: 0; */\n",
    "  background-color: lightgray;\n",
    "}\n",
    "</style>\n"
   ]
  },
  {
   "cell_type": "markdown",
   "metadata": {},
   "source": [
    "# Modele analizy danych\n",
    "\n",
    "### 2024/2025, semestr zimowy\n",
    "Tomasz Rodak\n",
    "\n",
    "---"
   ]
  },
  {
   "cell_type": "markdown",
   "metadata": {},
   "source": [
    "## Literatura\n",
    "   1. James, G., Witten, D., Hastie, T., Tibshirani, R., & Taylor,\n",
    "      J. (2023). An Introduction to Statistical Learning: With\n",
    "      Applications in Python.\n",
    "      \n",
    "      [ISLP](https://www.statlearning.com/)\n",
    "   \n",
    "   2. Bishop, C. M., & Nasrabadi, N. M. (2006). Pattern recognition and\n",
    "      machine learning (Vol. 4, No. 4, p. 738). New York: springer. \n",
    "   \n",
    "      [PRML](https://www.microsoft.com/en-us/research/people/cmbishop/prml-book/)\n",
    "   \n",
    "   3. Kroese, D. P., Botev, Z., Taimre, T., & Vaisman, R. (2019). Data\n",
    "      science and machine learning: mathematical and statistical\n",
    "      methods. CRC Press.\n",
    "   \n",
    "      [https://people.smp.uq.edu.au/DirkKroese/DSML/](https://people.smp.uq.edu.au/DirkKroese/DSML/)\n",
    "   \n",
    "   4. Hastie, T., Tibshirani, R., Friedman, J. H., & Friedman,\n",
    "      J. H. (2009). The elements of statistical learning: data mining,\n",
    "      inference, and prediction (Vol. 2, pp. 1-758). New York:\n",
    "      springer.\n",
    "   \n",
    "      [https://hastie.su.domains/ElemStatLearn/](https://hastie.su.domains/ElemStatLearn/)\n",
    "   \n",
    "   5. Murphy, K. P. (2022). Probabilistic machine learning: an\n",
    "      introduction. MIT press.\n",
    "   \n",
    "      [https://probml.github.io/pml-book/book1.html](https://probml.github.io/pml-book/book1.html)\n",
    "   \n",
    "   6. Murphy, K. P. (2023). Probabilistic machine learning: Advanced\n",
    "      topics. MIT press.\n",
    "   \n",
    "      [https://probml.github.io/pml-book/book2.html](https://probml.github.io/pml-book/book2.html)\n",
    "   \n",
    "   7. Bishop, C. M., & Bishop, H (2024). Deep learning. Springer.\n",
    "   \n",
    "      [https://www.bishopbook.com/](https://www.bishopbook.com/)\n",
    "   \n",
    "   8. Goodfellow, I., Bengio, Y., & Courville, A. (2016). Deep learning. MIT press.\n",
    "   \n",
    "      [https://www.deeplearningbook.org/](https://www.deeplearningbook.org/)\n",
    "\n",
    "---"
   ]
  },
  {
   "cell_type": "markdown",
   "metadata": {},
   "source": [
    "## Wykład VII\n",
    "\n",
    "ISLP, rozdział 4.4\n",
    "\n",
    "---"
   ]
  },
  {
   "cell_type": "code",
   "execution_count": 1,
   "metadata": {},
   "outputs": [],
   "source": [
    "import pandas as pd\n",
    "import numpy as np\n",
    "import matplotlib.pyplot as plt\n",
    "import seaborn as sns\n",
    "sns.set()"
   ]
  },
  {
   "cell_type": "code",
   "execution_count": 2,
   "metadata": {},
   "outputs": [],
   "source": [
    "from sklearn.discriminant_analysis import (\n",
    "    LinearDiscriminantAnalysis as LDA,\n",
    "    QuadraticDiscriminantAnalysis as QDA\n",
    ")\n",
    "\n",
    "from sklearn.model_selection import train_test_split\n",
    "from sklearn.metrics import confusion_matrix"
   ]
  },
  {
   "cell_type": "markdown",
   "metadata": {},
   "source": [
    "## Modele generatywne w problemach klasyfikacji: LDA\n",
    "\n",
    "W modelu regresji logistycznej obliczamy prawdopodobieństwo warunkowe $P(Y=k|x)$: prawdopodobieństwo tego, że $Y$ przyjmie wartość $k$ jeśli wiadomo, że pojawił się wektor cech $X=x$.\n",
    "\n",
    "Można jednak postępować inaczej. Załóżmy, że $Y\\in\\{1,\\ldots,K\\}$. Wówczas:\n",
    "* modelujemy rozkład cech $X$ w każdej z klas $k$, czyli znajdujemy rozkłady warunkowe $p(x|Y=k)$;\n",
    "* modelujemy rozkład *a priori* występowania klas $\\pi_k=P(Y=k)$;\n",
    "* wykorzystujemy twierdzenie Bayesa do obliczenia rozkładu *a posteriori* $P(Y=k|x)$:\n"
   ]
  },
  {
   "cell_type": "markdown",
   "metadata": {},
   "source": [
    "<div class=\"wzor\">\n",
    "\n",
    "\\begin{equation*}\n",
    "\\begin{split}\n",
    "P(Y=k|x) &= \\frac{p(x|Y=k)P(Y=k)}{p(x)}\\\\\n",
    "&= \\frac{p(x|Y=k)P(Y=k)}{\\sum_{l=1}^K p(x|Y=l)P(Y=l)}\n",
    "\\end{split}\n",
    "\\end{equation*}\n",
    "\n",
    "</div>"
   ]
  },
  {
   "cell_type": "markdown",
   "metadata": {},
   "source": [
    "Model ten nazywamy *modelem generatywnym*, gdyż pozwala on na generowanie wartości z rozkładu łącznego $p(x, y):=p(x|y)p(y)$. W *modelu dyskryminatywnym*, takim jak regresja logistyczna, modelujemy bezpośrednio rozkład $p(y|x)$ pomijając rozkłady warunkowe $p(x|y)$. \n",
    "\n",
    "Zalety modeli generatywnych:\n",
    "* regresja logistyczna jest niestabilna w przypadku klas separowalnych liniowo - funkcja wiarygodności ma wtedy nieskończenie wiele maksimów lokalnych; nie jest to problem dla modeli generatywnych;\n",
    "* jeśli rozkład cech $X$ jest w przybliżeniu normalny, to klasyfikator generatywny może dawać lepsze wyniki niż dyskryminatywny, w szczególności niż regresja logistyczna;\n",
    "* model generatywny ma tę samą naturalną postać tak dla dwóch, jak i dla wielu klas.\n",
    "\n",
    "Modele generatywne są bardziej złożone obliczeniowo niż modele dyskryminatywne i wymagają spełnienia dodatkowych założeń. Modelowanie prawdopodobieństw a priori $P(Y=k)$ jest zwykle proste. Jeśli nie mamy żadnych dodatkowych informacji o rozkładzie klas, to przyjmujemy po prostu, że prawdopobieństwo a priori wystąpienia klasy $k$ jest równe częstości występowania tej klasy w zbiorze uczącym:"
   ]
  },
  {
   "cell_type": "markdown",
   "metadata": {},
   "source": [
    "<div class=\"wzor\">\n",
    "\n",
    "\\begin{equation*}\n",
    "\\begin{split}\n",
    "P(Y=k) &= \\frac{\\text{liczba obserwacji klasy }k}{\\text{liczba wszystkich obserwacji}}\\\\\n",
    "&=\\frac{1}{n}\\sum_{i=1}^n I(y_i=k)\n",
    "\\end{split}\n",
    "\\end{equation*}\n",
    "\n",
    "</div>"
   ]
  },
  {
   "cell_type": "markdown",
   "metadata": {},
   "source": [
    "Wyznaczenie rozkładów cech w klasach $p(x|Y=k)$ jest zwykle znacznie trudniejsze i wymaga wprowadzenia dodatkowych założeń. W zależności od tego jakie założenia przyjmiemy, otrzymamy różne modele generatywne. Dalej omówimy trzy takie modele: *Linear Discriminant Analysis*, *Quadratic Discriminant Analysis* oraz *Naive Bayes*."
   ]
  },
  {
   "cell_type": "markdown",
   "metadata": {},
   "source": [
    "### Linear Discriminant Analysis (LDA) dla $p=1$\n",
    "\n",
    "Dla uproszczenia zakładamy, że $p=1$, czyli mamy tylko jedną cechę $X$. Rozkład $P(Y=k)$ wyznaczamy jak wyżej. Natomiast o rozkładach $p(x|Y=k)$ zakładamy, że są one normalne o jednakowych wariancjach $\\sigma^2$ i różnych średnich $\\mu_k$: "
   ]
  },
  {
   "cell_type": "markdown",
   "metadata": {},
   "source": [
    "<div class=\"wzor\">\n",
    "\n",
    "\\begin{equation*}\n",
    "p(x|Y=k)\\sim N(\\mu_k, \\sigma^2)\n",
    "\\end{equation*}\n",
    "\n",
    "</div>\n",
    "\n",
    "Gęstość rozkładu normalnego $N(\\mu, \\sigma^2)$ jest dana wzorem:"
   ]
  },
  {
   "cell_type": "markdown",
   "metadata": {},
   "source": [
    "<div class=\"wzor\">\n",
    "\n",
    "\\begin{equation*}\n",
    "f(x) = \\frac{1}{\\sqrt{2\\pi\\sigma^2}}\\exp\\left(-\\frac{(x-\\mu)^2}{2\\sigma^2}\\right)\n",
    "\\end{equation*}\n",
    "\n",
    "</div>\n",
    "\n",
    "W konsekwencji, rozkład warunkowy $p(x|Y=k)$ ma postać:"
   ]
  },
  {
   "cell_type": "markdown",
   "metadata": {},
   "source": [
    "<div class=\"wzor\">\n",
    "\n",
    "\\begin{equation*}\n",
    "p(x|Y=k) = \\frac{1}{\\sqrt{2\\pi\\sigma^2}}\\exp\\left(-\\frac{(x-\\mu_k)^2}{2\\sigma^2}\\right).\n",
    "\\end{equation*}\n",
    "\n",
    "</div>"
   ]
  },
  {
   "cell_type": "markdown",
   "metadata": {},
   "source": [
    "Oznacza to w szczególności, że $X$ jest zmienną losową ciągłą.\n",
    "\n",
    "Wówczas:"
   ]
  },
  {
   "cell_type": "markdown",
   "metadata": {},
   "source": [
    "\\begin{equation}\n",
    "\\begin{split}\n",
    "P(Y=k|x) &= \\frac{p(x|Y=k)P(Y=k)}{p(x)}\\\\ \n",
    "&= \\frac{p(x|Y=k)P(Y=k)}{\\sum_{l=1}^K p(x|Y=l)P(Y=l)}\\\\\n",
    "&= \\frac{\\exp\\left(-\\frac{(x-\\mu_k)^2}{2\\sigma^2}\\right)P(Y=k)}{\\sum_{l=1}^K \\exp\\left(-\\frac{(x-\\mu_l)^2}{2\\sigma^2}\\right)P(Y=l)}.\n",
    "\\end{split} \\tag{LDA}\n",
    "\\end{equation}\n",
    "\n",
    "Klasę $\\hat{y}$ pod warunkiem wystąpienia obserwacji $x$ wybieramy zgodnie z regułą klasyfikatora Bayesa:\n",
    "\n",
    "\\begin{equation*}\n",
    "\\hat{y} = \\operatorname{argmax}_{k\\in\\{1,\\ldots,K\\}} P(Y=k|x).\n",
    "\\end{equation*}\n",
    "\n",
    "Dla ustalonego $x$ mianownik we wzorze (LDA)\n",
    "jest stały, więc wystarczy maksymalizować licznik. Biorąc logarytm licznika widzimy, że nierówność\n",
    "\n",
    "\\begin{equation*}\n",
    "P(Y=k|x) > P(Y=l|x) \n",
    "\\end{equation*}\n",
    "\n",
    "jest kolejno równoważna nierównościom:\n",
    "\n",
    "\\begin{align*}\n",
    "\\log P(Y=k) - \\frac{(x-\\mu_k)^2}{2\\sigma^2} &> \\log P(Y=l) - \\frac{(x-\\mu_l)^2}{2\\sigma^2}\\quad\\iff\\\\\n",
    "\\log P(Y=k) + \\frac{\\mu_k}{\\sigma^2}x - \\frac{\\mu_k^2}{2\\sigma^2} &> \\log P(Y=l) + \\frac{\\mu_l}{\\sigma^2}x - \\frac{\\mu_l^2}{2\\sigma^2}\\quad\\iff\\\\\n",
    "x &> \\frac{\\mu_k+\\mu_l}{2} + \\frac{\\sigma^2}{\\mu_k-\\mu_l}\\log \\frac{P(Y=l)}{P(Y=k)}.\n",
    "\\end{align*}\n",
    "\n",
    "Dzięki założeniu, że wariancja jest taka sama dla wszystkich klas, składniki drugiego stopnia względem $x$ znikają. W konsekwencji granice decyzyjne między klasami znajdują się w punktach\n",
    "\n",
    "\\begin{equation*}\n",
    "x = \\frac{\\mu_k+\\mu_l}{2} + \\frac{\\sigma^2}{\\mu_k-\\mu_l}\\log \\frac{P(Y=l)}{P(Y=k)}.\n",
    "\\end{equation*}\n",
    "\n",
    "gdzie $k,l$ spełniają warunek $P(Y=l|x) = P(Y=k|x) \\geqslant P(Y=m|x)$ dla wszystkich $m\\neq k,l$. W szczególności, jeśli $K=2$, to granica decyzyjna wypada w punkcie\n",
    "\n",
    "\\begin{equation*}\n",
    "x = \\frac{\\mu_1+\\mu_2}{2} + \\frac{\\sigma^2}{\\mu_1-\\mu_2}\\log \\frac{P(Y=2)}{P(Y=1)}.\n",
    "\\end{equation*}\n",
    "\n",
    "Jeśli dodatkowo prawdoopodobieństwa a priori są równe $P(Y=1)=P(Y=2)=1/2$, to:\n",
    "\n",
    "\\begin{equation*}\n",
    "x = \\frac{\\mu_1+\\mu_2}{2}.\n",
    "\\end{equation*}"
   ]
  },
  {
   "cell_type": "markdown",
   "metadata": {},
   "source": [
    "Funkcje\n",
    "\n",
    "\\begin{equation*}\n",
    "\\delta_k(x) = \\log P(Y=k) + \\frac{\\mu_k}{\\sigma^2}x - \\frac{\\mu_k^2}{2\\sigma^2}\n",
    "\\end{equation*}\n",
    "\n",
    "nazywamy *funkcjami dyskryminacyjnymi* (ang. *discriminant functions*). Użycie tych funkcji pozwala na zapisanie klasyfikatora LDA w postaci dyskryminatywnej:\n",
    "\n",
    "\\begin{equation*}\n",
    "\\hat{y} = \\operatorname{argmax}_{k\\in\\{1,\\ldots,K\\}} \\hat\\delta_k(x),\n",
    "\\end{equation*}\n",
    "\n",
    "gdzie\n",
    "\n",
    "\\begin{equation*}\n",
    "\\hat\\delta_k(x) = \\log\\hat{P}(Y=k) + \\frac{\\hat{\\mu}_k}{\\hat{\\sigma}^2}x - \\frac{\\hat{\\mu}_k^2}{2\\hat{\\sigma}^2}.\n",
    "\\end{equation*}"
   ]
  },
  {
   "cell_type": "code",
   "execution_count": 3,
   "metadata": {},
   "outputs": [],
   "source": [
    "n = 1000\n",
    "k1 = 800\n",
    "k2 = n - k1\n",
    "mu1, mu2 = -10, 12\n",
    "sigma = 3\n",
    "x1 = np.random.normal(mu1, sigma, k1)\n",
    "x2 = np.random.normal(mu2, sigma, k2)\n",
    "x = np.concatenate((x1, x2))\n",
    "y = np.concatenate((np.zeros(k1), np.ones(k2)))"
   ]
  },
  {
   "cell_type": "code",
   "execution_count": 4,
   "metadata": {},
   "outputs": [
    {
     "name": "stdout",
     "output_type": "stream",
     "text": [
      "[-10.02006132] [12.03057661] [[3.01250324]]\n"
     ]
    }
   ],
   "source": [
    "lda = LDA(store_covariance=True)\n",
    "lda.fit(x.reshape(-1, 1), y)\n",
    "mu1_hat, mu2_hat = lda.means_\n",
    "sigma_hat = np.sqrt(lda.covariance_)\n",
    "print(mu1_hat, mu2_hat, sigma_hat)"
   ]
  },
  {
   "cell_type": "code",
   "execution_count": 5,
   "metadata": {},
   "outputs": [
    {
     "name": "stdout",
     "output_type": "stream",
     "text": [
      "0.434713380716093\n"
     ]
    }
   ],
   "source": [
    "decision_boundary = (mu1_hat + mu2_hat)/2 + np.log(k1 / k2)*sigma_hat**2/(mu1_hat - mu2_hat)\n",
    "decision_boundary = decision_boundary[0, 0]\n",
    "print(decision_boundary)"
   ]
  },
  {
   "cell_type": "code",
   "execution_count": 6,
   "metadata": {},
   "outputs": [
    {
     "data": {
      "image/png": "[encoded data removed]",
      "text/plain": [
       "<Figure size 1200x400 with 1 Axes>"
      ]
     },
     "metadata": {},
     "output_type": "display_data"
    }
   ],
   "source": [
    "fig, ax = plt.subplots(figsize=(12, 4))\n",
    "sns.histplot(x1, ax=ax, color='red', stat='density', label='klasa 1')\n",
    "sns.histplot(x2, ax=ax, color='blue', stat='density', label='klasa 2')\n",
    "ax.axvline(decision_boundary, color='black', linestyle='--', label='granica decyzyjna')\n",
    "ax.scatter(decision_boundary, 0, color='black', marker='o', s=100)\n",
    "ax.legend();"
   ]
  },
  {
   "cell_type": "markdown",
   "metadata": {},
   "source": [
    "#### Szacowanie parametrów modelu LDA\n",
    "\n",
    "Prawdopodobieństwa a priori szacujemy na podstawie częstości występowania klas w zbiorze uczącym\n",
    "\n",
    "\\begin{equation*}\n",
    "\\hat{P}(Y=k) = \\frac{n_k}{n},\n",
    "\\end{equation*}\n",
    "\n",
    "gdzie $n_k$ oznacza liczbę obserwacji klasy $k$ w zbiorze uczącym.\n",
    "Parametry $\\mu_k$ i $\\sigma^2$ szacujemy metodą największej wiarygodności. Można pokazać, że:\n",
    "\n",
    "\\begin{align*}\n",
    "\\hat{\\mu}_k &= \\frac{1}{n_k}\\sum_{i:y_i=k} x_i,\\\\\n",
    "\\hat{\\sigma}^2 &= \\frac{1}{n-K}\\sum_{k=1}^K\\sum_{i:y_i=k} (x_i-\\hat{\\mu}_k)^2.\n",
    "\\end{align*}"
   ]
  },
  {
   "cell_type": "markdown",
   "metadata": {},
   "source": [
    "### Linear Discriminant Analysis (LDA) dla $p>1$\n",
    "\n",
    "W przypadku gdy $p>1$ zakładamy, że rozkłady $p(x|Y=k)$ są wielowymiarowymi rozkładami normalnymi o jednakowych macierzach kowariancji $\\Sigma$ i różnych wektorach średnich $\\mu_k$:"
   ]
  },
  {
   "cell_type": "markdown",
   "metadata": {},
   "source": [
    "<div class=\"wzor\">\n",
    "\n",
    "\\begin{equation*}\n",
    "p(x|Y=k)\\sim N(\\mu_k, \\Sigma).\n",
    "\\end{equation*}\n",
    "\n",
    "</div>"
   ]
  },
  {
   "cell_type": "markdown",
   "metadata": {},
   "source": [
    "Gęstość wielowymiarowego rozkładu normalnego $N(\\mu, \\Sigma)$ jest dana wzorem:"
   ]
  },
  {
   "cell_type": "markdown",
   "metadata": {},
   "source": [
    "<div class=\"wzor\">\n",
    "\n",
    "\\begin{equation*}\n",
    "f(x) = \\frac{1}{(2\\pi)^{p/2}|\\Sigma|^{1/2}}\\exp\\left(-\\frac{1}{2}(x-\\mu)^T\\Sigma^{-1}(x-\\mu)\\right)\n",
    "\\end{equation*}\n",
    "\n",
    "</div>"
   ]
  },
  {
   "cell_type": "markdown",
   "metadata": {},
   "source": [
    "W konsekwnecji, rozkład warunkowy $p(x|Y=k)$ ma postać:"
   ]
  },
  {
   "cell_type": "markdown",
   "metadata": {},
   "source": [
    "<div class=\"wzor\">\n",
    "\n",
    "\\begin{equation*}\n",
    "p(x|Y=k) = \\frac{1}{(2\\pi)^{p/2}|\\Sigma|^{1/2}}\\exp\\left(-\\frac{1}{2}(x-\\mu_k)^T\\Sigma^{-1}(x-\\mu_k)\\right).\n",
    "\\end{equation*}\n",
    "\n",
    "</div>"
   ]
  },
  {
   "cell_type": "markdown",
   "metadata": {},
   "source": [
    "Funkcje dyskryminacyjne mają w tym przypadku postać:\n",
    "\n",
    "\\begin{equation*}\n",
    "\\delta_k(x) = x^T\\Sigma^{-1}\\mu_k - \\frac{1}{2}\\mu_k^T\\Sigma^{-1}\\mu_k + \\log P(Y=k).\n",
    "\\end{equation*}\n",
    "\n",
    "Znów dzięki założeniu, że macierz kowariancji jest taka sama dla wszystkich klas, składniki drugiego stopnia względem $x$ znikają. W konsekwencji granice decyzyjne między klasami $\\delta_k(x) = \\delta_l(x)$ są fragmentami hiperpłaszczyzn:\n",
    "\n",
    "\\begin{equation*}\n",
    "x^T\\Sigma^{-1}\\mu_k - \\frac{1}{2}\\mu_k^T\\Sigma^{-1}\\mu_k + \\log P(Y=k) = x^T\\Sigma^{-1}\\mu_l - \\frac{1}{2}\\mu_l^T\\Sigma^{-1}\\mu_l + \\log P(Y=l).\n",
    "\\end{equation*}\n",
    "\n",
    "Estymacja parametrów w tym przypadku jest analogiczna do przypadku $p=1$, choć wzory są bardziej skomplikowane z powodu obecności macierzy kowariancji $\\Sigma$ zamiast wariancji $\\sigma^2$ i wektorów średnich $\\mu_k\\in\\mathbb{R}^p$ zamiast liczb $\\mu_k\\in\\mathbb{R}$. Szczegóły można znaleźć w [PRML, rozdział 4.2.2 ($K=2$)](https://www.microsoft.com/en-us/research/people/cmbishop/prml-book/).\n",
    "\n",
    "Analogicznie jak dla $p=1$, klasyfikator LDA dla $p>1$ można zapisać w postaci dyskryminatywnej:\n",
    "\n",
    "\\begin{equation*}\n",
    "\\hat{y} = \\operatorname{argmax}_{k\\in\\{1,\\ldots,K\\}} \\hat\\delta_k(x).\n",
    "\\end{equation*}"
   ]
  },
  {
   "cell_type": "markdown",
   "metadata": {},
   "source": [
    "#### LDA na zbiorze `Default`"
   ]
  },
  {
   "cell_type": "code",
   "execution_count": 7,
   "metadata": {},
   "outputs": [
    {
     "data": {
      "text/html": [
       "<div>\n",
       "<style scoped>\n",
       "    .dataframe tbody tr th:only-of-type {\n",
       "        vertical-align: middle;\n",
       "    }\n",
       "\n",
       "    .dataframe tbody tr th {\n",
       "        vertical-align: top;\n",
       "    }\n",
       "\n",
       "    .dataframe thead th {\n",
       "        text-align: right;\n",
       "    }\n",
       "</style>\n",
       "<table border=\"1\" class=\"dataframe\">\n",
       "  <thead>\n",
       "    <tr style=\"text-align: right;\">\n",
       "      <th></th>\n",
       "      <th>default</th>\n",
       "      <th>student</th>\n",
       "      <th>balance</th>\n",
       "      <th>income</th>\n",
       "    </tr>\n",
       "  </thead>\n",
       "  <tbody>\n",
       "    <tr>\n",
       "      <th>0</th>\n",
       "      <td>No</td>\n",
       "      <td>No</td>\n",
       "      <td>729.526495</td>\n",
       "      <td>44361.625074</td>\n",
       "    </tr>\n",
       "    <tr>\n",
       "      <th>1</th>\n",
       "      <td>No</td>\n",
       "      <td>Yes</td>\n",
       "      <td>817.180407</td>\n",
       "      <td>12106.134700</td>\n",
       "    </tr>\n",
       "    <tr>\n",
       "      <th>2</th>\n",
       "      <td>No</td>\n",
       "      <td>No</td>\n",
       "      <td>1073.549164</td>\n",
       "      <td>31767.138947</td>\n",
       "    </tr>\n",
       "    <tr>\n",
       "      <th>3</th>\n",
       "      <td>No</td>\n",
       "      <td>No</td>\n",
       "      <td>529.250605</td>\n",
       "      <td>35704.493935</td>\n",
       "    </tr>\n",
       "    <tr>\n",
       "      <th>4</th>\n",
       "      <td>No</td>\n",
       "      <td>No</td>\n",
       "      <td>785.655883</td>\n",
       "      <td>38463.495879</td>\n",
       "    </tr>\n",
       "  </tbody>\n",
       "</table>\n",
       "</div>"
      ],
      "text/plain": [
       "  default student      balance        income\n",
       "0      No      No   729.526495  44361.625074\n",
       "1      No     Yes   817.180407  12106.134700\n",
       "2      No      No  1073.549164  31767.138947\n",
       "3      No      No   529.250605  35704.493935\n",
       "4      No      No   785.655883  38463.495879"
      ]
     },
     "execution_count": 7,
     "metadata": {},
     "output_type": "execute_result"
    }
   ],
   "source": [
    "df = pd.read_csv('datasets/Default.csv')\n",
    "df.head()"
   ]
  },
  {
   "cell_type": "code",
   "execution_count": 8,
   "metadata": {},
   "outputs": [],
   "source": [
    "y = df['default'].map({'No': 0, 'Yes': 1})\n",
    "X = df[['balance', 'income']].copy()\n",
    "X['student'] = df['student'].map({'No': 0, 'Yes': 1})"
   ]
  },
  {
   "cell_type": "code",
   "execution_count": 9,
   "metadata": {},
   "outputs": [
    {
     "data": {
      "text/html": [
       "<style>#sk-container-id-1 {\n",
       "  /* Definition of color scheme common for light and dark mode */\n",
       "  --sklearn-color-text: black;\n",
       "  --sklearn-color-line: gray;\n",
       "  /* Definition of color scheme for unfitted estimators */\n",
       "  --sklearn-color-unfitted-level-0: #fff5e6;\n",
       "  --sklearn-color-unfitted-level-1: #f6e4d2;\n",
       "  --sklearn-color-unfitted-level-2: #ffe0b3;\n",
       "  --sklearn-color-unfitted-level-3: chocolate;\n",
       "  /* Definition of color scheme for fitted estimators */\n",
       "  --sklearn-color-fitted-level-0: #f0f8ff;\n",
       "  --sklearn-color-fitted-level-1: #d4ebff;\n",
       "  --sklearn-color-fitted-level-2: #b3dbfd;\n",
       "  --sklearn-color-fitted-level-3: cornflowerblue;\n",
       "\n",
       "  /* Specific color for light theme */\n",
       "  --sklearn-color-text-on-default-background: var(--sg-text-color, var(--theme-code-foreground, var(--jp-content-font-color1, black)));\n",
       "  --sklearn-color-background: var(--sg-background-color, var(--theme-background, var(--jp-layout-color0, white)));\n",
       "  --sklearn-color-border-box: var(--sg-text-color, var(--theme-code-foreground, var(--jp-content-font-color1, black)));\n",
       "  --sklearn-color-icon: #696969;\n",
       "\n",
       "  @media (prefers-color-scheme: dark) {\n",
       "    /* Redefinition of color scheme for dark theme */\n",
       "    --sklearn-color-text-on-default-background: var(--sg-text-color, var(--theme-code-foreground, var(--jp-content-font-color1, white)));\n",
       "    --sklearn-color-background: var(--sg-background-color, var(--theme-background, var(--jp-layout-color0, #111)));\n",
       "    --sklearn-color-border-box: var(--sg-text-color, var(--theme-code-foreground, var(--jp-content-font-color1, white)));\n",
       "    --sklearn-color-icon: #878787;\n",
       "  }\n",
       "}\n",
       "\n",
       "#sk-container-id-1 {\n",
       "  color: var(--sklearn-color-text);\n",
       "}\n",
       "\n",
       "#sk-container-id-1 pre {\n",
       "  padding: 0;\n",
       "}\n",
       "\n",
       "#sk-container-id-1 input.sk-hidden--visually {\n",
       "  border: 0;\n",
       "  clip: rect(1px 1px 1px 1px);\n",
       "  clip: rect(1px, 1px, 1px, 1px);\n",
       "  height: 1px;\n",
       "  margin: -1px;\n",
       "  overflow: hidden;\n",
       "  padding: 0;\n",
       "  position: absolute;\n",
       "  width: 1px;\n",
       "}\n",
       "\n",
       "#sk-container-id-1 div.sk-dashed-wrapped {\n",
       "  border: 1px dashed var(--sklearn-color-line);\n",
       "  margin: 0 0.4em 0.5em 0.4em;\n",
       "  box-sizing: border-box;\n",
       "  padding-bottom: 0.4em;\n",
       "  background-color: var(--sklearn-color-background);\n",
       "}\n",
       "\n",
       "#sk-container-id-1 div.sk-container {\n",
       "  /* jupyter's `normalize.less` sets `[hidden] { display: none; }`\n",
       "     but bootstrap.min.css set `[hidden] { display: none !important; }`\n",
       "     so we also need the `!important` here to be able to override the\n",
       "     default hidden behavior on the sphinx rendered scikit-learn.org.\n",
       "     See: https://github.com/scikit-learn/scikit-learn/issues/21755 */\n",
       "  display: inline-block !important;\n",
       "  position: relative;\n",
       "}\n",
       "\n",
       "#sk-container-id-1 div.sk-text-repr-fallback {\n",
       "  display: none;\n",
       "}\n",
       "\n",
       "div.sk-parallel-item,\n",
       "div.sk-serial,\n",
       "div.sk-item {\n",
       "  /* draw centered vertical line to link estimators */\n",
       "  background-image: linear-gradient(var(--sklearn-color-text-on-default-background), var(--sklearn-color-text-on-default-background));\n",
       "  background-size: 2px 100%;\n",
       "  background-repeat: no-repeat;\n",
       "  background-position: center center;\n",
       "}\n",
       "\n",
       "/* Parallel-specific style estimator block */\n",
       "\n",
       "#sk-container-id-1 div.sk-parallel-item::after {\n",
       "  content: \"\";\n",
       "  width: 100%;\n",
       "  border-bottom: 2px solid var(--sklearn-color-text-on-default-background);\n",
       "  flex-grow: 1;\n",
       "}\n",
       "\n",
       "#sk-container-id-1 div.sk-parallel {\n",
       "  display: flex;\n",
       "  align-items: stretch;\n",
       "  justify-content: center;\n",
       "  background-color: var(--sklearn-color-background);\n",
       "  position: relative;\n",
       "}\n",
       "\n",
       "#sk-container-id-1 div.sk-parallel-item {\n",
       "  display: flex;\n",
       "  flex-direction: column;\n",
       "}\n",
       "\n",
       "#sk-container-id-1 div.sk-parallel-item:first-child::after {\n",
       "  align-self: flex-end;\n",
       "  width: 50%;\n",
       "}\n",
       "\n",
       "#sk-container-id-1 div.sk-parallel-item:last-child::after {\n",
       "  align-self: flex-start;\n",
       "  width: 50%;\n",
       "}\n",
       "\n",
       "#sk-container-id-1 div.sk-parallel-item:only-child::after {\n",
       "  width: 0;\n",
       "}\n",
       "\n",
       "/* Serial-specific style estimator block */\n",
       "\n",
       "#sk-container-id-1 div.sk-serial {\n",
       "  display: flex;\n",
       "  flex-direction: column;\n",
       "  align-items: center;\n",
       "  background-color: var(--sklearn-color-background);\n",
       "  padding-right: 1em;\n",
       "  padding-left: 1em;\n",
       "}\n",
       "\n",
       "\n",
       "/* Toggleable style: style used for estimator/Pipeline/ColumnTransformer box that is\n",
       "clickable and can be expanded/collapsed.\n",
       "- Pipeline and ColumnTransformer use this feature and define the default style\n",
       "- Estimators will overwrite some part of the style using the `sk-estimator` class\n",
       "*/\n",
       "\n",
       "/* Pipeline and ColumnTransformer style (default) */\n",
       "\n",
       "#sk-container-id-1 div.sk-toggleable {\n",
       "  /* Default theme specific background. It is overwritten whether we have a\n",
       "  specific estimator or a Pipeline/ColumnTransformer */\n",
       "  background-color: var(--sklearn-color-background);\n",
       "}\n",
       "\n",
       "/* Toggleable label */\n",
       "#sk-container-id-1 label.sk-toggleable__label {\n",
       "  cursor: pointer;\n",
       "  display: block;\n",
       "  width: 100%;\n",
       "  margin-bottom: 0;\n",
       "  padding: 0.5em;\n",
       "  box-sizing: border-box;\n",
       "  text-align: center;\n",
       "}\n",
       "\n",
       "#sk-container-id-1 label.sk-toggleable__label-arrow:before {\n",
       "  /* Arrow on the left of the label */\n",
       "  content: \"▸\";\n",
       "  float: left;\n",
       "  margin-right: 0.25em;\n",
       "  color: var(--sklearn-color-icon);\n",
       "}\n",
       "\n",
       "#sk-container-id-1 label.sk-toggleable__label-arrow:hover:before {\n",
       "  color: var(--sklearn-color-text);\n",
       "}\n",
       "\n",
       "/* Toggleable content - dropdown */\n",
       "\n",
       "#sk-container-id-1 div.sk-toggleable__content {\n",
       "  max-height: 0;\n",
       "  max-width: 0;\n",
       "  overflow: hidden;\n",
       "  text-align: left;\n",
       "  /* unfitted */\n",
       "  background-color: var(--sklearn-color-unfitted-level-0);\n",
       "}\n",
       "\n",
       "#sk-container-id-1 div.sk-toggleable__content.fitted {\n",
       "  /* fitted */\n",
       "  background-color: var(--sklearn-color-fitted-level-0);\n",
       "}\n",
       "\n",
       "#sk-container-id-1 div.sk-toggleable__content pre {\n",
       "  margin: 0.2em;\n",
       "  border-radius: 0.25em;\n",
       "  color: var(--sklearn-color-text);\n",
       "  /* unfitted */\n",
       "  background-color: var(--sklearn-color-unfitted-level-0);\n",
       "}\n",
       "\n",
       "#sk-container-id-1 div.sk-toggleable__content.fitted pre {\n",
       "  /* unfitted */\n",
       "  background-color: var(--sklearn-color-fitted-level-0);\n",
       "}\n",
       "\n",
       "#sk-container-id-1 input.sk-toggleable__control:checked~div.sk-toggleable__content {\n",
       "  /* Expand drop-down */\n",
       "  max-height: 200px;\n",
       "  max-width: 100%;\n",
       "  overflow: auto;\n",
       "}\n",
       "\n",
       "#sk-container-id-1 input.sk-toggleable__control:checked~label.sk-toggleable__label-arrow:before {\n",
       "  content: \"▾\";\n",
       "}\n",
       "\n",
       "/* Pipeline/ColumnTransformer-specific style */\n",
       "\n",
       "#sk-container-id-1 div.sk-label input.sk-toggleable__control:checked~label.sk-toggleable__label {\n",
       "  color: var(--sklearn-color-text);\n",
       "  background-color: var(--sklearn-color-unfitted-level-2);\n",
       "}\n",
       "\n",
       "#sk-container-id-1 div.sk-label.fitted input.sk-toggleable__control:checked~label.sk-toggleable__label {\n",
       "  background-color: var(--sklearn-color-fitted-level-2);\n",
       "}\n",
       "\n",
       "/* Estimator-specific style */\n",
       "\n",
       "/* Colorize estimator box */\n",
       "#sk-container-id-1 div.sk-estimator input.sk-toggleable__control:checked~label.sk-toggleable__label {\n",
       "  /* unfitted */\n",
       "  background-color: var(--sklearn-color-unfitted-level-2);\n",
       "}\n",
       "\n",
       "#sk-container-id-1 div.sk-estimator.fitted input.sk-toggleable__control:checked~label.sk-toggleable__label {\n",
       "  /* fitted */\n",
       "  background-color: var(--sklearn-color-fitted-level-2);\n",
       "}\n",
       "\n",
       "#sk-container-id-1 div.sk-label label.sk-toggleable__label,\n",
       "#sk-container-id-1 div.sk-label label {\n",
       "  /* The background is the default theme color */\n",
       "  color: var(--sklearn-color-text-on-default-background);\n",
       "}\n",
       "\n",
       "/* On hover, darken the color of the background */\n",
       "#sk-container-id-1 div.sk-label:hover label.sk-toggleable__label {\n",
       "  color: var(--sklearn-color-text);\n",
       "  background-color: var(--sklearn-color-unfitted-level-2);\n",
       "}\n",
       "\n",
       "/* Label box, darken color on hover, fitted */\n",
       "#sk-container-id-1 div.sk-label.fitted:hover label.sk-toggleable__label.fitted {\n",
       "  color: var(--sklearn-color-text);\n",
       "  background-color: var(--sklearn-color-fitted-level-2);\n",
       "}\n",
       "\n",
       "/* Estimator label */\n",
       "\n",
       "#sk-container-id-1 div.sk-label label {\n",
       "  font-family: monospace;\n",
       "  font-weight: bold;\n",
       "  display: inline-block;\n",
       "  line-height: 1.2em;\n",
       "}\n",
       "\n",
       "#sk-container-id-1 div.sk-label-container {\n",
       "  text-align: center;\n",
       "}\n",
       "\n",
       "/* Estimator-specific */\n",
       "#sk-container-id-1 div.sk-estimator {\n",
       "  font-family: monospace;\n",
       "  border: 1px dotted var(--sklearn-color-border-box);\n",
       "  border-radius: 0.25em;\n",
       "  box-sizing: border-box;\n",
       "  margin-bottom: 0.5em;\n",
       "  /* unfitted */\n",
       "  background-color: var(--sklearn-color-unfitted-level-0);\n",
       "}\n",
       "\n",
       "#sk-container-id-1 div.sk-estimator.fitted {\n",
       "  /* fitted */\n",
       "  background-color: var(--sklearn-color-fitted-level-0);\n",
       "}\n",
       "\n",
       "/* on hover */\n",
       "#sk-container-id-1 div.sk-estimator:hover {\n",
       "  /* unfitted */\n",
       "  background-color: var(--sklearn-color-unfitted-level-2);\n",
       "}\n",
       "\n",
       "#sk-container-id-1 div.sk-estimator.fitted:hover {\n",
       "  /* fitted */\n",
       "  background-color: var(--sklearn-color-fitted-level-2);\n",
       "}\n",
       "\n",
       "/* Specification for estimator info (e.g. \"i\" and \"?\") */\n",
       "\n",
       "/* Common style for \"i\" and \"?\" */\n",
       "\n",
       ".sk-estimator-doc-link,\n",
       "a:link.sk-estimator-doc-link,\n",
       "a:visited.sk-estimator-doc-link {\n",
       "  float: right;\n",
       "  font-size: smaller;\n",
       "  line-height: 1em;\n",
       "  font-family: monospace;\n",
       "  background-color: var(--sklearn-color-background);\n",
       "  border-radius: 1em;\n",
       "  height: 1em;\n",
       "  width: 1em;\n",
       "  text-decoration: none !important;\n",
       "  margin-left: 1ex;\n",
       "  /* unfitted */\n",
       "  border: var(--sklearn-color-unfitted-level-1) 1pt solid;\n",
       "  color: var(--sklearn-color-unfitted-level-1);\n",
       "}\n",
       "\n",
       ".sk-estimator-doc-link.fitted,\n",
       "a:link.sk-estimator-doc-link.fitted,\n",
       "a:visited.sk-estimator-doc-link.fitted {\n",
       "  /* fitted */\n",
       "  border: var(--sklearn-color-fitted-level-1) 1pt solid;\n",
       "  color: var(--sklearn-color-fitted-level-1);\n",
       "}\n",
       "\n",
       "/* On hover */\n",
       "div.sk-estimator:hover .sk-estimator-doc-link:hover,\n",
       ".sk-estimator-doc-link:hover,\n",
       "div.sk-label-container:hover .sk-estimator-doc-link:hover,\n",
       ".sk-estimator-doc-link:hover {\n",
       "  /* unfitted */\n",
       "  background-color: var(--sklearn-color-unfitted-level-3);\n",
       "  color: var(--sklearn-color-background);\n",
       "  text-decoration: none;\n",
       "}\n",
       "\n",
       "div.sk-estimator.fitted:hover .sk-estimator-doc-link.fitted:hover,\n",
       ".sk-estimator-doc-link.fitted:hover,\n",
       "div.sk-label-container:hover .sk-estimator-doc-link.fitted:hover,\n",
       ".sk-estimator-doc-link.fitted:hover {\n",
       "  /* fitted */\n",
       "  background-color: var(--sklearn-color-fitted-level-3);\n",
       "  color: var(--sklearn-color-background);\n",
       "  text-decoration: none;\n",
       "}\n",
       "\n",
       "/* Span, style for the box shown on hovering the info icon */\n",
       ".sk-estimator-doc-link span {\n",
       "  display: none;\n",
       "  z-index: 9999;\n",
       "  position: relative;\n",
       "  font-weight: normal;\n",
       "  right: .2ex;\n",
       "  padding: .5ex;\n",
       "  margin: .5ex;\n",
       "  width: min-content;\n",
       "  min-width: 20ex;\n",
       "  max-width: 50ex;\n",
       "  color: var(--sklearn-color-text);\n",
       "  box-shadow: 2pt 2pt 4pt #999;\n",
       "  /* unfitted */\n",
       "  background: var(--sklearn-color-unfitted-level-0);\n",
       "  border: .5pt solid var(--sklearn-color-unfitted-level-3);\n",
       "}\n",
       "\n",
       ".sk-estimator-doc-link.fitted span {\n",
       "  /* fitted */\n",
       "  background: var(--sklearn-color-fitted-level-0);\n",
       "  border: var(--sklearn-color-fitted-level-3);\n",
       "}\n",
       "\n",
       ".sk-estimator-doc-link:hover span {\n",
       "  display: block;\n",
       "}\n",
       "\n",
       "/* \"?\"-specific style due to the `<a>` HTML tag */\n",
       "\n",
       "#sk-container-id-1 a.estimator_doc_link {\n",
       "  float: right;\n",
       "  font-size: 1rem;\n",
       "  line-height: 1em;\n",
       "  font-family: monospace;\n",
       "  background-color: var(--sklearn-color-background);\n",
       "  border-radius: 1rem;\n",
       "  height: 1rem;\n",
       "  width: 1rem;\n",
       "  text-decoration: none;\n",
       "  /* unfitted */\n",
       "  color: var(--sklearn-color-unfitted-level-1);\n",
       "  border: var(--sklearn-color-unfitted-level-1) 1pt solid;\n",
       "}\n",
       "\n",
       "#sk-container-id-1 a.estimator_doc_link.fitted {\n",
       "  /* fitted */\n",
       "  border: var(--sklearn-color-fitted-level-1) 1pt solid;\n",
       "  color: var(--sklearn-color-fitted-level-1);\n",
       "}\n",
       "\n",
       "/* On hover */\n",
       "#sk-container-id-1 a.estimator_doc_link:hover {\n",
       "  /* unfitted */\n",
       "  background-color: var(--sklearn-color-unfitted-level-3);\n",
       "  color: var(--sklearn-color-background);\n",
       "  text-decoration: none;\n",
       "}\n",
       "\n",
       "#sk-container-id-1 a.estimator_doc_link.fitted:hover {\n",
       "  /* fitted */\n",
       "  background-color: var(--sklearn-color-fitted-level-3);\n",
       "}\n",
       "</style><div id=\"sk-container-id-1\" class=\"sk-top-container\"><div class=\"sk-text-repr-fallback\"><pre>LinearDiscriminantAnalysis(store_covariance=True)</pre><b>In a Jupyter environment, please rerun this cell to show the HTML representation or trust the notebook. <br />On GitHub, the HTML representation is unable to render, please try loading this page with nbviewer.org.</b></div><div class=\"sk-container\" hidden><div class=\"sk-item\"><div class=\"sk-estimator fitted sk-toggleable\"><input class=\"sk-toggleable__control sk-hidden--visually\" id=\"sk-estimator-id-1\" type=\"checkbox\" checked><label for=\"sk-estimator-id-1\" class=\"sk-toggleable__label fitted sk-toggleable__label-arrow fitted\">&nbsp;&nbsp;LinearDiscriminantAnalysis<a class=\"sk-estimator-doc-link fitted\" rel=\"noreferrer\" target=\"_blank\" href=\"https://scikit-learn.org/1.5/modules/generated/sklearn.discriminant_analysis.LinearDiscriminantAnalysis.html\">?<span>Documentation for LinearDiscriminantAnalysis</span></a><span class=\"sk-estimator-doc-link fitted\">i<span>Fitted</span></span></label><div class=\"sk-toggleable__content fitted\"><pre>LinearDiscriminantAnalysis(store_covariance=True)</pre></div> </div></div></div></div>"
      ],
      "text/plain": [
       "LinearDiscriminantAnalysis(store_covariance=True)"
      ]
     },
     "execution_count": 9,
     "metadata": {},
     "output_type": "execute_result"
    }
   ],
   "source": [
    "lda = LDA(store_covariance=True)\n",
    "lda.fit(X, y)"
   ]
  },
  {
   "cell_type": "code",
   "execution_count": 10,
   "metadata": {},
   "outputs": [
    {
     "data": {
      "text/plain": [
       "array([[9645,   22],\n",
       "       [ 254,   79]])"
      ]
     },
     "execution_count": 10,
     "metadata": {},
     "output_type": "execute_result"
    }
   ],
   "source": [
    "confusion_matrix(y, lda.predict(X))"
   ]
  },
  {
   "cell_type": "code",
   "execution_count": 11,
   "metadata": {},
   "outputs": [
    {
     "data": {
      "text/plain": [
       "0.9724"
      ]
     },
     "execution_count": 11,
     "metadata": {},
     "output_type": "execute_result"
    }
   ],
   "source": [
    "lda.score(X, y) # dokładność klasyfikacji"
   ]
  },
  {
   "cell_type": "markdown",
   "metadata": {},
   "source": [
    "Powyższa macierz jest *macierzą pomyłek* (*confusion matrix*). Wiersze odpowiadają prawdziwym klasom, kolumny przewidywanym klasom. Element $i,j$ macierzy to liczba obserwacji klasy $i$, które zostały zaklasyfikowane do klasy $j$. W idealnym klasyfikatorze macierz ta byłaby macierzą diagonalną.\n",
    "\n",
    "Zatem:\n",
    "* 9645 osób nie zaciągnęło kredytu i zostało zaklasyfikowanych do klasy \"niezaciągających kredytu\"; prawdziwie ujemna (TN, *true negative*): klasyfikator poprawnie przewidział, że cecha nie wystąpi;\n",
    "* 22 osoby nie zaciągnęły kredytu, ale zostały zaklasyfikowane do klasy \"zaciągających kredyt\"; fałszywie dodatnia (FP, *false positive*): klasyfikator błędnie przewidział, że cecha wystąpi;\n",
    "* 254 osób zaciągnęło kredyt i zostało zaklasyfikowanych do klasy \"niezaciągających kredytu\"; fałszywie ujemna (FN, *false negative*): klasyfikator błędnie przewidział, że cecha nie wystąpi;\n",
    "* 79 osób zaciągnęło kredyt i zostało zaklasyfikowanych do klasy \"zaciągających kredyt\"; prawdziwie dodatnia (TP, *true positive*): klasyfikator poprawnie przewidział, że cecha wystąpi.\n",
    "\n",
    "Macierz pomyłek można wykorzystać do obliczenia wielu miar jakości klasyfikatora. Przykładowo:\n",
    "* *accuracy* (dokładność) - stosunek liczby poprawnych klasyfikacji do liczby wszystkich klasyfikacji: $(TP+TN)/(TP+TN+FP+FN)$; w naszym przypadku: $(9645+79)/(9645+22+254+79) = 0.9736$; odpowiada na pytanie: jak często klasyfikator poprawnie przewiduje klasę obserwacji;\n",
    "* *precision* (precyzja) - stosunek liczby klasyfikacji prawdziwie dodatnich do liczby wszystkich klasyfikacji dodatnich: $TP/(TP+FP)$; w naszym przypadku: $79/(79+22) = 0.7822$; odpowiada na pytanie: jak często przewidywania klasy dodatniej są poprawne;\n",
    "* *specificity* (swoistość) - stosunek liczby klasyfikacji prawdziwie ujemnych do liczby wszystkich obserwacji ujemnych: $TN/(TN+FP)$; w naszym przypadku: $9645/(9645+22) = 0.9977$; odpowiada na pytanie: jak często klasyfikator poprawnie przewiduje w klasie ujemnej;\n",
    "* *recall* (czułość) - stosunek liczby klasyfikacji prawdziwie dodatnich do liczby wszystkich obserwacji dodatnich: $TP/(TP+FN)$; w naszym przypadku: $79/(79+254) = 0.2373$; odpowiada na pytanie: jak często klasyfikator poprawnie przewiduje w klasie dodatniej;"
   ]
  },
  {
   "cell_type": "markdown",
   "metadata": {},
   "source": [
    "Widzimy, że nasz model ma bardzo wysoką dokładność i swoistość. Oznacza to, że przeważająca liczba obserwacji została poprawnie zaklasyfikowana oraz, że w klasie ujemnej (niezaciągających kredytu) przeważająca liczba obserwacji również została poprawnie zaklasyfikowana. Niestety, naiwny model przewidujący \"niezaciąganie kredytu\" dla wszystkich obserwacji ma dokładność $9667/10000=0.9667$, a swoistość 1 (nie popełnia żadnych błędów w klasie ujemnej). Zatem nasz model jest tylko nieznacznie lepszy od naiwnego modelu. Powodem tego stanu rzeczy jest nierównomierna liczba obserwacji w klasach. W zbiorze uczącym jest 9667 obserwacji klasy \"niezaciągających kredytu\" i tylko 333 obserwacje klasy \"zaciągających kredyt\". \n",
    "\n",
    "Precyzja równa 0.7822 oznacza, że jeśli model przewiduje, że osoba zaciągnie kredyt, to w 78.22% przypadków jego przewidywanie jest poprawne. Czułość równa 0.2373 oznacza, że jeśli osoba zaciągnie kredyt, to jedynie w 23.73% przypadków model to poprawnie przewidzi. Oznacza to, że wśród osób, które zaciągnęły kredyt, model myli się w 76.27% przypadków, a zatem bardzo często.\n",
    "W praktyce, w zależności od celu klasyfikacji, możemy chcieć zwiększyć precyzję kosztem czułości lub odwrotnie zmieniając próg decyzyjny. \n",
    "\n",
    "Dla progu $0.2$ obserwację $X=x$ przypisujemy do klasy \"zaciągających kredyt\", gdy\n",
    "\n",
    "\\begin{equation*}\n",
    "P(\\text{default}=\\text{\"Yes\"}|X=x) > 0.2.\n",
    "\\end{equation*}\n",
    "\n",
    "Otrzymujemy wówczas macierz pomyłek:"
   ]
  },
  {
   "cell_type": "code",
   "execution_count": 12,
   "metadata": {},
   "outputs": [
    {
     "data": {
      "text/plain": [
       "array([[9435,  232],\n",
       "       [ 140,  193]])"
      ]
     },
     "execution_count": 12,
     "metadata": {},
     "output_type": "execute_result"
    }
   ],
   "source": [
    "threshold = 0.2\n",
    "y_pred = lda.predict_proba(X)[:, 1] > threshold\n",
    "confusion_matrix(y, y_pred)"
   ]
  },
  {
   "cell_type": "markdown",
   "metadata": {},
   "source": [
    "Teraz liczba poprawnych przewidywań w klasie dodatniej jest równa $193/(193+140)=0.5793$, czyli 58% (wcześniej było to 23.73%). Z drugiej strony, liczba poprawnych przewidywań w klasie ujemnej spadła do $9449/(9449+218)=0.9771$, czyli 98% (wcześniej było to 99.77%). \n",
    "\n",
    "Ocenę modelu dla różnych progów decyzyjnych można przedstawić na wykresie ROC: na osi odciętych znajduje się *false positive rate* (FPR, 1-swoistość), czyli klasyfikacje dodatnie w klasie ujemnej: $FPR=FP/(FP+TN)$; na osi rzędnych znajduje się *true positive rate* (TPR, czułość), czyli klasyfikacje dodatnie w klasie dodatniej: $TPR=TP/(TP+FN)$. Dla naszego modelu wykres ROC wygląda następująco (na niebiesko fragment między progiem 0.2 a 0.5):"
   ]
  },
  {
   "cell_type": "code",
   "execution_count": 13,
   "metadata": {},
   "outputs": [
    {
     "data": {
      "image/png": "[encoded data removed]",
      "text/plain": [
       "<Figure size 600x600 with 1 Axes>"
      ]
     },
     "metadata": {},
     "output_type": "display_data"
    }
   ],
   "source": [
    "# ROC curve\n",
    "from sklearn.metrics import roc_curve, roc_auc_score\n",
    "\n",
    "fpr, tpr, thresholds = roc_curve(y, lda.predict_proba(X)[:, 1])\n",
    "auc = roc_auc_score(y, lda.predict_proba(X)[:, 1])\n",
    "\n",
    "thr1 = 0.2\n",
    "thr2 = 0.5\n",
    "fpr12, tpr12 = fpr[(thr1 < thresholds) & (thresholds < thr2)], tpr[(thr1 < thresholds) & (thresholds < thr2)]\n",
    "\n",
    "fig, ax = plt.subplots(figsize=(6, 6))\n",
    "ax.plot(fpr, tpr, color='red', label=f'ROC curve (AUC = {auc:.3f})')\n",
    "ax.plot(fpr12, tpr12, color='blue', lw=3)\n",
    "ax.plot([0, 1], [0, 1], color='black', linestyle='--')\n",
    "ax.set_xlabel('False Positive Rate')\n",
    "ax.set_ylabel('True Positive Rate')\n",
    "ax.set_title('Receiver Operating Characteristic Curve')\n",
    "ax.legend();"
   ]
  },
  {
   "cell_type": "markdown",
   "metadata": {},
   "source": [
    "Dla klasyfikatora przewidującego losowo wykres ROC jest prostą łączącą punkty $(0,0)$ i $(1,1)$. Im wykres ROC znajduje się bliżej lewego górnego rogu, tym lepszy jest klasyfikator. \n",
    "\n",
    "Punkt (0,0) odpowiada klasyfikatorowi przypiującemu wszystkim obserwacjom klasę ujemną. Punkt (1,1) odpowiada klasyfikatorowi przypisującemu wszystkim obserwacjom klasę dodatnią. "
   ]
  }
 ],
 "metadata": {
  "kernelspec": {
   "display_name": "py312",
   "language": "python",
   "name": "python3"
  },
  "language_info": {
   "codemirror_mode": {
    "name": "ipython",
    "version": 3
   },
   "file_extension": ".py",
   "mimetype": "text/x-python",
   "name": "python",
   "nbconvert_exporter": "python",
   "pygments_lexer": "ipython3",
   "version": "3.12.4"
  }
 },
 "nbformat": 4,
 "nbformat_minor": 2
}
