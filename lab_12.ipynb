{
 "cells": [
  {
   "cell_type": "markdown",
   "metadata": {},
   "source": [
    "# Modele analizy danych\n",
    "\n",
    "### 2024/2025, semestr zimowy\n",
    "Tomasz Rodak\n",
    "\n",
    "---"
   ]
  },
  {
   "cell_type": "markdown",
   "metadata": {},
   "source": [
    "### Zadanie 12.1\n",
    "\n",
    "Podany niżej kod pobiera zbiór danych MNIST. Jest to zbiór zawierający obrazy ręcznie pisanych cyfr od 0 do 9. Każdy obrazek ma rozmiar 28x28 pikseli.\n",
    "\n",
    "Zobacz jak działają różne poznane dotąd modele klasyfikacji na tym zbiorze danych. Dla tych modeli, dla których to możliwe, wyświetl w postaci obrazka wagi modelu odpowiadające średniej wartości piksela dla każdej z cyfr. \n",
    "\n",
    "Wykorzystaj Optunę do wyznaczenia najlepszego modelu o najlpszych parametrach."
   ]
  },
  {
   "cell_type": "code",
   "execution_count": 96,
   "metadata": {},
   "outputs": [],
   "source": [
    "import matplotlib.pyplot as plt\n",
    "import seaborn as sns\n",
    "import numpy as np\n",
    "\n",
    "from sklearn.datasets import fetch_openml\n",
    "\n",
    "X, y = fetch_openml(\"mnist_784\", version=1, return_X_y=True, as_frame=False)"
   ]
  },
  {
   "cell_type": "code",
   "execution_count": null,
   "metadata": {},
   "outputs": [],
   "source": [
    "fig, axs = plt.subplots(2, 3, figsize=(8, 4))\n",
    "for i, ax in enumerate(axs.flat):\n",
    "    ax.imshow(X[np.random.randint(0, X.shape[0])].reshape(28, 28), cmap=\"gray\")\n",
    "    ax.set_title(f\"Label: {y[i]}\")\n",
    "    ax.axis(\"off\")\n",
    "plt.tight_layout()"
   ]
  }
 ],
 "metadata": {
  "kernelspec": {
   "display_name": "py312",
   "language": "python",
   "name": "python3"
  },
  "language_info": {
   "codemirror_mode": {
    "name": "ipython",
    "version": 3
   },
   "file_extension": ".py",
   "mimetype": "text/x-python",
   "name": "python",
   "nbconvert_exporter": "python",
   "pygments_lexer": "ipython3",
   "version": "3.12.4"
  }
 },
 "nbformat": 4,
 "nbformat_minor": 2
}
