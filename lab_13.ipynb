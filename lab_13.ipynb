{
 "cells": [
  {
   "cell_type": "markdown",
   "metadata": {},
   "source": [
    "# Modele analizy danych\n",
    "\n",
    "### 2024/2025, semestr zimowy\n",
    "Tomasz Rodak\n",
    "\n",
    "---"
   ]
  },
  {
   "cell_type": "markdown",
   "metadata": {},
   "source": [
    "### Zadanie 13.1\n",
    "\n",
    "Przeanalizuj dane z pliku `Boston.csv` pod kątem selekcji zmiennych. \n",
    "* Sprawdź różne metody selekcji zmiennych i różne kryteria wyboru modelu (np. Mallows' $C_p$, BIC, skorygowany $R^2$, walidacja krzyżowa).\n",
    "* Wyznacz optymalny model regresji grzbietowej i LASSO. Wykorzystaj Optunę i walidację krzyżową.\n",
    "\n",
    "Oceń wyniki z różnych punktów widzenia: prostoty modelu, interpretowalności, jakości predykcji."
   ]
  },
  {
   "cell_type": "code",
   "execution_count": null,
   "metadata": {},
   "outputs": [],
   "source": []
  },
  {
   "cell_type": "code",
   "execution_count": null,
   "metadata": {},
   "outputs": [],
   "source": []
  }
 ],
 "metadata": {
  "kernelspec": {
   "display_name": "py312",
   "language": "python",
   "name": "python3"
  },
  "language_info": {
   "codemirror_mode": {
    "name": "ipython",
    "version": 3
   },
   "file_extension": ".py",
   "mimetype": "text/x-python",
   "name": "python",
   "nbconvert_exporter": "python",
   "pygments_lexer": "ipython3",
   "version": "3.12.4"
  }
 },
 "nbformat": 4,
 "nbformat_minor": 2
}
