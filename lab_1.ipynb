{
 "cells": [
  {
   "cell_type": "markdown",
   "metadata": {},
   "source": [
    "# Modele analizy danych\n",
    "\n",
    "### 2024/2025, semestr zimowy\n",
    "Tomasz Rodak\n",
    "\n",
    "---"
   ]
  },
  {
   "cell_type": "markdown",
   "metadata": {},
   "source": [
    "## Całkowanie metodą Monte Carlo"
   ]
  },
  {
   "cell_type": "markdown",
   "metadata": {},
   "source": [
    "Metoda Monte Carlo to grupa algorytmów probabilistycznych pozwalających na uzyskanie przybliżonych wyników w sytuacjach, w których dokładne rozwiązanie jest trudne lub niemożliwe do uzyskania. Metoda ta polega na estymacji poszukiwanej numerycznej wartości poprzez generowanie losowych próbek z rozkładu związanego z problemem. "
   ]
  },
  {
   "cell_type": "markdown",
   "metadata": {},
   "source": [
    "### Wprowadzenie. Obliczanie miary zbioru"
   ]
  },
  {
   "cell_type": "markdown",
   "metadata": {},
   "source": [
    "Zastosujemy metodę Monte Carlo do obliczenia pola powierzchni koła o promieniu 1. Załóżmy, że mamy koło o promieniu 1:\n",
    "\n",
    "$$x^2 + y^2 <= 1$$\n",
    "\n",
    "wpisane w kwadrat o boku 2:\n",
    "\n",
    "$$-1 <= x <= 1$$\n",
    "$$-1 <= y <= 1$$\n",
    "\n",
    "Losujemy $N$ punktów z kwadratu i sprawdzamy, ile z nich znajduje się w kole:"
   ]
  },
  {
   "cell_type": "code",
   "execution_count": null,
   "metadata": {},
   "outputs": [],
   "source": [
    "import numpy as np\n",
    "\n",
    "N = 10_000 # liczba prób\n",
    "points = np.random.uniform(-1, 1, (N, 2)) # generowanie punktów\n",
    "inside = points[:, 0]**2 + points[:, 1]**2 <= 1 # punkty wewnątrz koła\n",
    "n_inside = np.sum(inside) # liczba punktów wewnątrz koła\n",
    "n_inside"
   ]
  },
  {
   "cell_type": "markdown",
   "metadata": {},
   "source": [
    "Rysunek:"
   ]
  },
  {
   "cell_type": "code",
   "execution_count": null,
   "metadata": {},
   "outputs": [],
   "source": [
    "from matplotlib import pyplot as plt\n",
    "plt.style.use('ggplot') # styl wykresu; można zmienić na inny lub usunąć\n",
    "\n",
    "# kwadrat \n",
    "plt.plot([-1, -1, 1, 1, -1], [-1, 1, 1, -1, -1], 'k-')\n",
    "# koło\n",
    "t = np.linspace(0, 2*np.pi, 1000) # 1000 równo rozmieszczonych punktów na przedziale [0, 2*pi]\n",
    "plt.plot(np.cos(t), np.sin(t), 'k-')\n",
    "# punkty wewnątrz koła, czerwone\n",
    "plt.plot(points[inside, 0], points[inside, 1], 'ro', markersize=1)\n",
    "# punkty na zewnątrz koła, niebieskie\n",
    "plt.plot(points[~inside, 0], points[~inside, 1], 'bo', markersize=1)\n",
    "# uswawienie osi\n",
    "plt.axis('equal');"
   ]
  },
  {
   "cell_type": "markdown",
   "metadata": {},
   "source": [
    "Zdroworozsądkowe myślenie podpowiada, że stosunek liczby punktów w kole do liczby wszystkich wylosowanych punktów (czyli $N$)\n",
    " aproksymuje stosunek pól koła i kwadratu:\n",
    "\n",
    "$$\\frac{\\text{liczba punktów w kole}}{N} \\approx \\frac{\\text{pole koła}}{\\text{pole kwadratu}}\n",
    "=\\frac{\\text{pole koła}}{4}$$\n",
    "\n",
    "i że przybliżenie to powinno być tym lepsze, im większa jest liczba losowanych punktów $N$.\n",
    "\n",
    "Pole koła aproksymowane przez nasz eksperyment to:"
   ]
  },
  {
   "cell_type": "code",
   "execution_count": null,
   "metadata": {},
   "outputs": [],
   "source": [
    "est_area = 4 * n_inside / N \n",
    "est_area"
   ]
  },
  {
   "cell_type": "markdown",
   "metadata": {},
   "source": [
    "Prawdziwy wynik to:\n",
    "\n",
    "$$\n",
    "\\pi r^2 = \\pi,\n",
    "$$\n",
    "\n",
    "bo $r=1$. Niechcący aproksymujemy więc wartość liczby $\\pi$ :-)\n",
    "\n",
    "Błąd względny:"
   ]
  },
  {
   "cell_type": "code",
   "execution_count": null,
   "metadata": {},
   "outputs": [],
   "source": [
    "relative_error = np.abs(np.pi - est_area) / np.pi\n",
    "print(f'Błąd względny: {relative_error * 100:g}%')"
   ]
  },
  {
   "cell_type": "markdown",
   "metadata": {},
   "source": [
    "### Uzasadnienie metody"
   ]
  },
  {
   "cell_type": "markdown",
   "metadata": {},
   "source": [
    "Skuteczność metody Monte Carlo wynika z prawa wielkich liczb i następującego triku rachunkowego.\n",
    "\n",
    "Załóżmy, że chcemy obliczyć całkę z funkcji $f(\\mathbf{x})$ określonej na obszarze ograniczonym $\\Omega\\subset\\mathbb{R}^n$. Wówczas całkę tę możemy zapisać jako wartość oczekiwaną zmiennej losowej $f(\\mathbf{x})$ względem rozkładu jednostajnego na zbiorze $\\Omega$:\n",
    "\n",
    "\\begin{equation*}\n",
    "\\begin{aligned}\n",
    "\\int_\\Omega f(\\mathbf{x}) d\\mathbf{x} &= \\text{Vol}(\\Omega) \\int_\\Omega f(\\mathbf{x}) \\frac{d\\mathbf{x}}{\\text{Vol}(\\Omega)} \\\\\n",
    "&= \\text{Vol}(\\Omega) \\mathbb{E}[f(\\mathbf{x})].\n",
    "\\end{aligned}\n",
    "\\end{equation*} \n",
    "\n",
    "Ostatnia równość wynika z faktu, że funkcja\n",
    "\n",
    "\\begin{equation*}\n",
    "p(\\mathbf{x}) = \\frac{1}{\\text{Vol}(\\Omega)}, \\quad \\mathbf{x}\\in\\Omega\n",
    "\\end{equation*}\n",
    "\n",
    "jest gęstością rozkładu jednostajnego na zbiorze $\\Omega$ i ze wzoru na wartość oczekiwaną ciągłej zmiennej losowej:\n",
    "\n",
    "\\begin{equation*}\n",
    "\\mathbb{E}[f(\\mathbf{x})] = \\int_\\Omega f(\\mathbf{x}) p(\\mathbf{x}) d\\mathbf{x}.\n",
    "\\end{equation*}\n",
    "\n",
    "Z prawa wielkich liczb wynika, że\n",
    "\n",
    "\\begin{equation*}\n",
    "\\frac{1}{N} \\sum_{i=1}^N f(\\mathbf{x}_i) \\xrightarrow{} \\mathbb{E}[f(\\mathbf{x})],\\quad N\\to\\infty,\n",
    "\\end{equation*}\n",
    "\n",
    "gdzie $\\mathbf{x}_i$ są niezależnymi próbkami z rozkładu $p(\\mathbf{x})$. Zatem\n",
    "\n",
    "\\begin{equation*}\n",
    "\\frac{\\text{Vol}(\\Omega)}{N} \\sum_{i=1}^N f(\\mathbf{x}_i) \\xrightarrow{} \\int_\\Omega f(\\mathbf{x}) d\\mathbf{x},\\quad N\\to\\infty.\n",
    "\\end{equation*}\n",
    "\n",
    "W naszym przykładzie zbiór $\\Omega$ to kwadrat $[-1,1]\\times[-1,1]$, a jako funkcję $f(\\mathbf{x})$ możemy wziąć funkcję charakterystyczną koła o promieniu 1:\n",
    "\n",
    "\\begin{equation*}\n",
    "f(\\mathbf{x}) = \\mathbb{1}_{\\{x^2 + y^2 \\leq 1\\}}(\\mathbf{x})\n",
    " = \\begin{cases} 1, & \\text{jeśli } x^2 + y^2 \\leq 1, \\\\ 0, & \\text{w przeciwnym przypadku.} \\end{cases}\n",
    "\\end{equation*}\n",
    "\n",
    "Zatem\n",
    "\n",
    "\\begin{equation*}\n",
    "\\begin{aligned}\n",
    "\\text{pole koła} &= \\int_{[-1,1]\\times[-1,1]} \\mathbb{1}_{\\{x^2 + y^2 \\leq 1\\}}(\\mathbf{x}) d\\mathbf{x}\\\\\n",
    "&\\approx \\frac{4}{N} \\sum_{i=1}^N \\mathbb{1}_{\\{x^2 + y^2 \\leq 1\\}}(x_i, y_i)\\\\\n",
    "&= \\frac{4}{N} \\sum_{i=1}^N \\begin{cases} 1, & \\text{jeśli } x_i^2 + y_i^2 \\leq 1, \\\\ 0, & \\text{w przeciwnym przypadku} \\end{cases}\\\\\n",
    "&= \\frac{4}{N}\\cdot \\text{liczba punktów w kole}.\n",
    "\\end{aligned}\n",
    "\\end{equation*}\n",
    "\n",
    "\n",
    "**Uwaga:** Aby stosować metodę Monte Carlo do obliczenia całki, musimy uprzednio wiedzieć, że całka ta istnieje i jest skończona. "
   ]
  },
  {
   "cell_type": "markdown",
   "metadata": {},
   "source": [
    "### Zadanie 1.1\n",
    "\n",
    "Oblicz metodą Monte Carlo objętość $n$-wymiarowej kuli o promieniu 1. Ustal $N=10^6$ i zobacz, jak zachowuje się błąd względny w zależności od wymiaru $n$."
   ]
  },
  {
   "cell_type": "code",
   "execution_count": null,
   "metadata": {},
   "outputs": [],
   "source": []
  },
  {
   "cell_type": "code",
   "execution_count": null,
   "metadata": {},
   "outputs": [],
   "source": []
  },
  {
   "cell_type": "markdown",
   "metadata": {},
   "source": [
    "### Zadanie 1.2\n",
    "\n",
    "Oblicz metodą Monte Carlo pole powierzchni pod wykresem funkcji $f(x) = x^2$ na przedziale $[0,1]$. Porównaj wynik z wartością dokładną."
   ]
  },
  {
   "cell_type": "code",
   "execution_count": null,
   "metadata": {},
   "outputs": [],
   "source": []
  },
  {
   "cell_type": "code",
   "execution_count": null,
   "metadata": {},
   "outputs": [],
   "source": []
  },
  {
   "cell_type": "markdown",
   "metadata": {},
   "source": [
    "### Zadanie 1.3\n",
    "\n",
    "Napisz funkcję `mc_integrate(f, a, b, N=10_000)`, która oblicza przybliżoną wartość całki $\\int_a^b f(x) dx$ metodą Monte Carlo. Funkcja ma przyjmować jako argumenty:\n",
    "* funkcję $f$ - obiekt wywoływalny (np. funkcja, lambda), reprezentujący funkcję, której całkę chcemy obliczyć,\n",
    "* liczby $a$, $b$ - przedział całkowania,\n",
    "* liczbę całkowitą $N$ o domyślnej wartości 10_000 - liczbę losowanych punktów.\n",
    "\n",
    "Przetestuj działanie funkcji na przykładach."
   ]
  },
  {
   "cell_type": "code",
   "execution_count": null,
   "metadata": {},
   "outputs": [],
   "source": []
  },
  {
   "cell_type": "code",
   "execution_count": null,
   "metadata": {},
   "outputs": [],
   "source": []
  },
  {
   "cell_type": "markdown",
   "metadata": {},
   "source": [
    "### Zadanie 1.4\n",
    "\n",
    "Wykonaj obliczenia z zadania 1.2 dla $N=10^3, 10^4, 10^5, 10^6, 10^7$. Jak zmienia się błąd względny wraz ze wzrostem liczby próbek $N$?"
   ]
  },
  {
   "cell_type": "code",
   "execution_count": null,
   "metadata": {},
   "outputs": [],
   "source": []
  },
  {
   "cell_type": "code",
   "execution_count": null,
   "metadata": {},
   "outputs": [],
   "source": []
  },
  {
   "cell_type": "markdown",
   "metadata": {},
   "source": [
    "### Zadanie 1.5\n",
    "\n",
    "Wykonaj obliczenia z zadania 1.2 po 100 razy dla każdego $N=10^2,10^3,10^4,10^5,10^6$. Zapamiętaj otrzymane wartości w tablicy. \n",
    "\n",
    "1. Narysuj wykresy pudełkowe (boxplot) otrzymanych wyników dla każdego $N$. Jak zmienia się rozrzut aproksymacji wraz ze wzrostem $N$?\n",
    "2. O ile musimy zwiększyć $N$, aby odchylenie standardowe wyników zmniejszyło się dwukrotnie? Sprawdź swoje przypuszczenie dla $N=10^4$."
   ]
  },
  {
   "cell_type": "code",
   "execution_count": null,
   "metadata": {},
   "outputs": [],
   "source": []
  },
  {
   "cell_type": "code",
   "execution_count": null,
   "metadata": {},
   "outputs": [],
   "source": []
  }
 ],
 "metadata": {
  "kernelspec": {
   "display_name": "py312",
   "language": "python",
   "name": "python3"
  },
  "language_info": {
   "codemirror_mode": {
    "name": "ipython",
    "version": 3
   },
   "file_extension": ".py",
   "mimetype": "text/x-python",
   "name": "python",
   "nbconvert_exporter": "python",
   "pygments_lexer": "ipython3",
   "version": "3.12.4"
  }
 },
 "nbformat": 4,
 "nbformat_minor": 2
}
