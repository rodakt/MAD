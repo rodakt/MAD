{
 "cells": [
  {
   "cell_type": "markdown",
   "metadata": {},
   "source": [
    "# Modele analizy danych\n",
    "\n",
    "Tomasz Rodak\n",
    "\n",
    "---"
   ]
  },
  {
   "cell_type": "markdown",
   "metadata": {},
   "source": [
    "### Zadanie 4.1\n",
    "\n",
    "Niech $Y=2+3X+\\varepsilon$, gdzie $\\varepsilon\\sim N(0,1)$, $X\\sim N(0,1)$. \n",
    "\n",
    "1. Wyznacz 95% przedział ufności dla współczynnika kierunkowego $\\beta_1$ w modelu regresji liniowej $\\hat{y}=\\hat{\\beta}_0+\\hat{\\beta}_1x$ dla $n=100$ obserwacji. Czy wartość $\\beta_1=3$ zawiera się w przedziale ufności?\n",
    "2. Powtórz symulację 1000 razy. Jak często wartość $\\beta_1=3$ jest pokryta przez przedział ufności?\n"
   ]
  },
  {
   "cell_type": "code",
   "execution_count": null,
   "metadata": {},
   "outputs": [],
   "source": []
  },
  {
   "cell_type": "code",
   "execution_count": null,
   "metadata": {},
   "outputs": [],
   "source": []
  },
  {
   "cell_type": "markdown",
   "metadata": {},
   "source": [
    "### Zadanie 4.2\n",
    "\n",
    "Kontynuacja zadania 4.1. \n",
    "\n",
    "1. Wyznacz 95% przedział ufności dla wartości oczekiwanej $E(Y|X=x_0)$ oraz dla wartości obserwowanej $Y_0$ dla $x_0=0.2$. Czy wartość $E(Y|X=x_0)=2+3x_0$ zawiera się w przedziale ufności?\n",
    "2. Powtórz symulację 1000 razy. Jak często wartości $E(Y|X=x_0)=2+3x_0$ oraz $Y_0=2+3x_0+\\varepsilon$ są pokryte przez odpowiednie przedziały ufności?\n",
    "\n",
    "Przedziały ufności dla wartości oczekiwanej oraz wartości obserwowanej możesz wyznaczyć korzystając z metody `OLSResults.get_prediction()` z pakietu `statsmodels`."
   ]
  },
  {
   "cell_type": "code",
   "execution_count": null,
   "metadata": {},
   "outputs": [],
   "source": []
  },
  {
   "cell_type": "code",
   "execution_count": null,
   "metadata": {},
   "outputs": [],
   "source": []
  },
  {
   "cell_type": "markdown",
   "metadata": {},
   "source": [
    "### Zadanie 4.3\n",
    "\n",
    "Niech $\\mathcal{T}=\\{(x_1,y_1),\\ldots,(x_n,y_n)\\}\\subset\\mathbb{R}^2$ będzie zbiorem obserwacji i niech\n",
    "\n",
    "\\begin{equation*}\n",
    "\\text{RSS}(\\beta_0,\\beta_1) = \\sum_{i=1}^n (y_i-\\beta_0-\\beta_1x_i)^2\n",
    "\\end{equation*}\n",
    "\n",
    "będzie sumą kwadratów reszt w modelu regresji liniowej $\\hat{y}=\\hat{\\beta}_0+\\hat{\\beta}_1x$. Jeśli optymalizacja modelu została przeprowadzona metodą najmniejszych kwadratów, to estymatory $\\hat{\\beta}_0$ i $\\hat{\\beta}_1$ są zdefiniowane jako:\n",
    "\n",
    "\\begin{equation*}\n",
    "[\\hat{\\beta}_0,\\hat{\\beta}_1]^T = \\arg\\min_{\\beta_0,\\beta_1} \\text{RSS}(\\beta_0,\\beta_1)\n",
    "\\end{equation*}\n",
    "\n",
    "Wykaż, że wówczas\n",
    "\n",
    "\\begin{equation*}\n",
    "\\begin{split}\n",
    "\\hat{\\beta}_1 &= \\frac{\\sum_{i=1}^n (x_i-\\bar{x})(y_i-\\bar{y})}{\\sum_{i=1}^n (x_i-\\bar{x})^2},\\\\\n",
    "\\hat{\\beta}_0 &= \\bar{y}-\\hat{\\beta}_1\\bar{x},\n",
    "\\end{split}\n",
    "\\end{equation*}\n",
    "\n",
    "gdzie $\\bar{x}=\\frac{1}{n}\\sum_{i=1}^n x_i$, $\\bar{y}=\\frac{1}{n}\\sum_{i=1}^n y_i$."
   ]
  },
  {
   "cell_type": "code",
   "execution_count": null,
   "metadata": {},
   "outputs": [],
   "source": []
  },
  {
   "cell_type": "code",
   "execution_count": null,
   "metadata": {},
   "outputs": [],
   "source": []
  },
  {
   "cell_type": "markdown",
   "metadata": {},
   "source": [
    "### Zadanie 4.4\n",
    "\n",
    "Niech $\\mathcal{T}=\\{(x_1,y_1),\\ldots,(x_n,y_n)\\}\\subset\\mathbb{R}^2$ będzie zbiorem obserwacji i niech\n",
    "\n",
    "\\begin{equation*}\n",
    "\\hat{y} = \\hat{\\beta}_0+\\hat{\\beta}_1x\n",
    "\\end{equation*}\n",
    "\n",
    "będzie dopasowanym do danych (metodą najmniejszych kwadratów) modelem regresji liniowej. Wykaż, że prosta regresji przechodzi przez punkt $(\\bar{x},\\bar{y})$, gdzie $\\bar{x}=\\frac{1}{n}\\sum_{i=1}^n x_i$, $\\bar{y}=\\frac{1}{n}\\sum_{i=1}^n y_i$."
   ]
  },
  {
   "cell_type": "code",
   "execution_count": null,
   "metadata": {},
   "outputs": [],
   "source": []
  },
  {
   "cell_type": "code",
   "execution_count": null,
   "metadata": {},
   "outputs": [],
   "source": []
  },
  {
   "cell_type": "markdown",
   "metadata": {},
   "source": [
    "### Zadanie 4.5\n",
    "\n",
    "Zbiór [`Auto.csv`](https://www.statlearning.com/s/Auto.csv) zawiera dane dotyczące modeli samochodów. Dane zawierają następujące kolumny:\n",
    "\n",
    "1. `mpg` -- liczba mil, jakie samochód przejeżdża na jednym galonie paliwa,\n",
    "2. `cylinders` -- liczba cylindrów w silniku,\n",
    "3. `displacement` -- pojemność silnika (w calach sześciennych),\n",
    "4. `horsepower` -- moc silnika,\n",
    "5. `weight` -- waga samochodu (w funtach),\n",
    "6. `acceleration` -- przyspieszenie (w sekundach od 0 do 60 mil na godzinę),\n",
    "7. `year` -- rok produkcji (modulo 100),\n",
    "8. `origin` -- pochodzenie samochodu (1. USA, 2. Europa, 3. Japonia),\n",
    "9. `name` -- nazwa samochodu.\n",
    "\n",
    "Zmienną objaśnianą jest `mpg`, pozostałe zmienne są zmiennymi objaśniającymi.\n",
    "\n",
    "Pobierz do ramki danych `pd.DataFrame` zbiór [`Auto.csv`](https://www.statlearning.com/s/Auto.csv). \n",
    "\n",
    "1. Wykonaj wykresy rozproszenia wszystkich par zmiennych numerycznych względem siebie (`pd.plotting.scatter_matrix` lub `sns.pairplot`).\n",
    "2. Zbuduj macierz korelacji zmiennych numerycznych (`pd.DataFrame.corr` plus `sns.heatmap`).\n",
    "\n",
    "Skomentuj wyniki."
   ]
  },
  {
   "cell_type": "code",
   "execution_count": null,
   "metadata": {},
   "outputs": [],
   "source": []
  },
  {
   "cell_type": "code",
   "execution_count": null,
   "metadata": {},
   "outputs": [],
   "source": []
  },
  {
   "cell_type": "markdown",
   "metadata": {},
   "source": [
    "### Zadanie 4.6\n",
    "\n",
    "Zbuduj model regresji liniowej zmiennej `mpg` w zależności od `horsepower`. Wykorzystaj pakiet `statsmodels`. Wyświetl podsumowanie modelu. Zbuduj wykres rozrzutu z dopasowaną prostą regresji.\n",
    "\n",
    "1. Przedstaw model w postaci równania regresji: $\\widehat{\\text{mpg}}=\\hat{\\beta}_0+\\hat{\\beta}_1\\cdot\\text{horsepower}$.\n",
    "1. Czy zmienna `mpg` zależy od `horsepower`? \n",
    "2. Jak silny jest związek między `mpg` a `horsepower`?\n",
    "3. Czy zależność jest dodatnia czy ujemna?\n",
    "4. Jak zmieni się `mpg` wraz ze wzrostem `horsepower` o 20?\n",
    "4. Jaką wartość przewiduje model dla `mpg` przy `horsepower=98`? Jak wygląda przedział ufności i predykcji dla tej wartości (metoda `OLSResults.get_prediction()`)? "
   ]
  },
  {
   "cell_type": "code",
   "execution_count": null,
   "metadata": {},
   "outputs": [],
   "source": []
  },
  {
   "cell_type": "code",
   "execution_count": null,
   "metadata": {},
   "outputs": [],
   "source": []
  },
  {
   "cell_type": "markdown",
   "metadata": {},
   "source": [
    "### Zadanie 4.6\n",
    "\n",
    "Rozwiąż zadania 2.4.1 i 2.4.2 z książki [ISLP](https://www.statlearning.com/) (strona 63)."
   ]
  }
 ],
 "metadata": {
  "kernelspec": {
   "display_name": "py312",
   "language": "python",
   "name": "python3"
  },
  "language_info": {
   "codemirror_mode": {
    "name": "ipython",
    "version": 3
   },
   "file_extension": ".py",
   "mimetype": "text/x-python",
   "name": "python",
   "nbconvert_exporter": "python",
   "pygments_lexer": "ipython3",
   "version": "3.12.4"
  }
 },
 "nbformat": 4,
 "nbformat_minor": 2
}
