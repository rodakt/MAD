{
 "cells": [
  {
   "cell_type": "markdown",
   "metadata": {},
   "source": [
    "# Modele analizy danych\n",
    "\n",
    "### 2024/2025, semestr zimowy\n",
    "Tomasz Rodak\n",
    "\n",
    "---"
   ]
  },
  {
   "cell_type": "markdown",
   "metadata": {},
   "source": [
    "### Zadanie 9.1\n",
    "\n",
    "<!-- import numpy as np\n",
    "import matplotlib.pyplot as plt\n",
    "import seaborn as sns\n",
    "\n",
    "from scipy.stats import ortho_group\n",
    "\n",
    "def make_random_psd_matrix(eigenvalues, random_rotation=False, seed=None):\n",
    "    p = len(eigenvalues)\n",
    "    if random_rotation:\n",
    "        np.random.seed(seed)\n",
    "        Q = ortho_group.rvs(p)\n",
    "    else:\n",
    "        Q = np.eye(p)\n",
    "    S = np.diag(eigenvalues)\n",
    "    return Q @ np.sqrt(S) @ Q.T\n",
    "\n",
    "def multivariate_normal(n, mu, psd):\n",
    "    p = len(mu)\n",
    "    X = np.random.normal(0, 1, (n, p))\n",
    "    return X @ psd.T + mu\n",
    "    \n",
    "n = [1000, 1000, 1000, 1000] # number of samples per class\n",
    "lbd = [[1, 0.2], [1, 0.2], [1, 0.2], [1, 0.2]] # eigenvalues of the covariance matrix in each class\n",
    "mu = [[0, 0], [3, 2], [6, 0], [3, -2]] # mean of the distribution in each class\n",
    "\n",
    "X, y = np.empty((0, 2)), np.empty(0)\n",
    "for n_, lbd_, mu_ in zip(n, lbd, mu):\n",
    "    psd = make_random_psd_matrix(lbd_, random_rotation=True, seed=None)\n",
    "    X_ = multivariate_normal(n_, mu_, psd)\n",
    "    X = np.vstack([X, X_])\n",
    "    y = np.hstack([y, np.full(n_, len(y))])\n",
    "\n",
    "fig, ax = plt.subplots()\n",
    "plt.scatter(X[:, 0], X[:, 1], c=y, cmap='viridis', s=1, alpha=1)\n",
    "ax.set_aspect('equal'); -->\n",
    "\n",
    "Celem tego zadania jest wizualizacja i ocena jakości klasyfikacji na sztucznie wygenerowanych danych dla modeli:\n",
    "1. regresji logistycznej,\n",
    "2. LDA,\n",
    "3. QDA,\n",
    "4. KNN, \n",
    "5. Naiwnego Bayesa.\n",
    "\n",
    "Podany niżej kod generuje dane z rozkładu normalnego (pod warunkiem klasy) o średnich i macierzach kowariancji kontrolowanych przez użytkownika. \n",
    "1. Wykorzystaj go do wygenerowania przykładowych danych.\n",
    "2. Uzyskane dane podziel na zbiór treningowy i testowy. \n",
    "3. Przeprowadź klasyfikację na zbiorze treningowym i ocen jakość klasyfikacji na zbiorze testowym. \n",
    "4. W modelach generatywnych sprawdź jak wyglądają wyznaczone przez model średnie i macierze kowariancji w każdej z klas. Czy są one zbliżone do wartości, z których generowano dane? W każdym przypadku zastanów się, jakie są założenia modelu i czy są one spełnione w danych.\n",
    "5. Przedstaw graficznie granice decyzyjne dla każdego z modeli. Przeprowadź różne eksperymenty, zmieniając parametry generacji danych, takie jak liczba klas, liczba obserwacji w klasie, wartości średnich i macierzy kowariancji.\n",
    "\n",
    "Do wyznaczania granic decyzyjnych możesz wykorzystać `sklearn.inspection.DecisionBoundariesDisplay`.\n",
    "\n",
    "---"
   ]
  },
  {
   "cell_type": "code",
   "execution_count": 167,
   "metadata": {},
   "outputs": [],
   "source": [
    "from sklearn.discriminant_analysis import LinearDiscriminantAnalysis as LDA\n",
    "from sklearn.discriminant_analysis import QuadraticDiscriminantAnalysis as QDA\n",
    "from sklearn.linear_model import LogisticRegression\n",
    "from sklearn.naive_bayes import GaussianNB\n",
    "from sklearn.neighbors import KNeighborsClassifier\n",
    "from sklearn.metrics import accuracy_score, confusion_matrix\n",
    "from sklearn.model_selection import train_test_split\n",
    "from sklearn.inspection import DecisionBoundaryDisplay"
   ]
  },
  {
   "cell_type": "code",
   "execution_count": 168,
   "metadata": {},
   "outputs": [],
   "source": [
    "import numpy as np\n",
    "import matplotlib.pyplot as plt\n",
    "import seaborn as sns\n",
    "\n",
    "from scipy.stats import ortho_group\n",
    "\n",
    "def make_random_psd_matrix(eigenvalues, random_rotation=False, seed=None):\n",
    "    p = len(eigenvalues)\n",
    "    if random_rotation:\n",
    "        np.random.seed(seed)\n",
    "        Q = ortho_group.rvs(p)\n",
    "    else:\n",
    "        Q = np.eye(p)\n",
    "    S = np.diag(eigenvalues)\n",
    "    return Q @ np.sqrt(S) @ Q.T\n",
    "\n",
    "def multivariate_normal(n, mu, psd):\n",
    "    p = len(mu)\n",
    "    X = np.random.normal(0, 1, (n, p))\n",
    "    return X @ psd.T + mu"
   ]
  },
  {
   "cell_type": "code",
   "execution_count": null,
   "metadata": {},
   "outputs": [],
   "source": [
    "n = [1000, 1000, 1000, 1000] # number of samples per class\n",
    "lbd = [[1, 0.2], [1, 0.2], [1, 0.2], [1, 0.2]] # eigenvalues of the covariance matrix in each class\n",
    "mu = [[0, 0], [3, 2], [6, 0], [3, -2]] # mean of the distribution in each class\n",
    "\n",
    "X, y = np.empty((0, 2)), np.empty(0)\n",
    "for n_, lbd_, mu_ in zip(n, lbd, mu):\n",
    "    psd = make_random_psd_matrix(lbd_, random_rotation=True, seed=None)\n",
    "    X_ = multivariate_normal(n_, mu_, psd)\n",
    "    X = np.vstack([X, X_])\n",
    "    y = np.hstack([y, np.full(n_, len(y))])\n",
    "\n",
    "fig, ax = plt.subplots()\n",
    "plt.scatter(X[:, 0], X[:, 1], c=y, cmap='viridis', s=1, alpha=1)\n",
    "ax.set_aspect('equal');"
   ]
  }
 ],
 "metadata": {
  "kernelspec": {
   "display_name": "py312",
   "language": "python",
   "name": "python3"
  },
  "language_info": {
   "codemirror_mode": {
    "name": "ipython",
    "version": 3
   },
   "file_extension": ".py",
   "mimetype": "text/x-python",
   "name": "python",
   "nbconvert_exporter": "python",
   "pygments_lexer": "ipython3",
   "version": "3.12.4"
  }
 },
 "nbformat": 4,
 "nbformat_minor": 2
}
